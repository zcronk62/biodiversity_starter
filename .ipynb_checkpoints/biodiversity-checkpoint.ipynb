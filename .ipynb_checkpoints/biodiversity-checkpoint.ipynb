{
 "cells": [
  {
   "cell_type": "markdown",
   "metadata": {},
   "source": [
    "# Biodiversity in National Parks Porfolio Project"
   ]
  },
  {
   "cell_type": "markdown",
   "metadata": {},
   "source": [
    "## 1. Introduction\n",
    "\n",
    "In this project, I am imagining that I am working for the United States Government as a analyst attempting to understand the biodiversity within some National Parks. I have been given two datafiles:\n",
    "\n",
    "- `observations.csv`: dataset containing the observational records for each organism observed within each national park. The dataset contains the scientific name of the organism, the national park in which is was observed and the number of times the organism was observed over the previous 7 days. **Note: The data was downloaded as part of Codecademy's Data Scientist Career Path. The data source is stated as the National Parks Service (NPS).**\n",
    "\n",
    "- `species_info.csv`: dataset containing information relating to the organism observed. The dataset contains the scientific name and the common names of the organisms. It also contains the category (i.e. mammal, bird, etc.) and the conservation status. Whether the conservation status is improving is not discernable as the dataset does not contain time-series data.\n",
    "\n",
    "The purpose of this project will be to analyze how the biodiverity may change from park to park and to determine of certain organisms are more likely to be under threat of endangerment.\n",
    "\n",
    "### 1.1 Project Scoping\n",
    "\n",
    "1. Import and inspect each dataset individually.\n",
    "2. Clean both datasets.\n",
    "3. Inspect the distribution of observations presented in `observations.csv`.\n",
    "4. Inspect the conservation status distributions for each species category in `species.csv`.\n",
    "4. Join the datasets.\n",
    "5. Visualize the number of observations for each member of each category and conservation status.\n",
    "6. Visualize how that may change between each park."
   ]
  },
  {
   "cell_type": "markdown",
   "metadata": {},
   "source": [
    "### 1.2 Importing and Inspecting the Data"
   ]
  },
  {
   "cell_type": "code",
   "execution_count": 1,
   "metadata": {},
   "outputs": [],
   "source": [
    "import pandas as pd\n",
    "\n",
    "obs_df = pd.read_csv('observations.csv')\n",
    "species_df = pd.read_csv('species_info.csv')"
   ]
  },
  {
   "cell_type": "markdown",
   "metadata": {},
   "source": [
    "#### 1.2.1 Observations"
   ]
  },
  {
   "cell_type": "code",
   "execution_count": 3,
   "metadata": {},
   "outputs": [
    {
     "data": {
      "text/html": [
       "<div>\n",
       "<style scoped>\n",
       "    .dataframe tbody tr th:only-of-type {\n",
       "        vertical-align: middle;\n",
       "    }\n",
       "\n",
       "    .dataframe tbody tr th {\n",
       "        vertical-align: top;\n",
       "    }\n",
       "\n",
       "    .dataframe thead th {\n",
       "        text-align: right;\n",
       "    }\n",
       "</style>\n",
       "<table border=\"1\" class=\"dataframe\">\n",
       "  <thead>\n",
       "    <tr style=\"text-align: right;\">\n",
       "      <th></th>\n",
       "      <th>scientific_name</th>\n",
       "      <th>park_name</th>\n",
       "      <th>observations</th>\n",
       "    </tr>\n",
       "  </thead>\n",
       "  <tbody>\n",
       "    <tr>\n",
       "      <th>0</th>\n",
       "      <td>Vicia benghalensis</td>\n",
       "      <td>Great Smoky Mountains National Park</td>\n",
       "      <td>68</td>\n",
       "    </tr>\n",
       "    <tr>\n",
       "      <th>1</th>\n",
       "      <td>Neovison vison</td>\n",
       "      <td>Great Smoky Mountains National Park</td>\n",
       "      <td>77</td>\n",
       "    </tr>\n",
       "    <tr>\n",
       "      <th>2</th>\n",
       "      <td>Prunus subcordata</td>\n",
       "      <td>Yosemite National Park</td>\n",
       "      <td>138</td>\n",
       "    </tr>\n",
       "    <tr>\n",
       "      <th>3</th>\n",
       "      <td>Abutilon theophrasti</td>\n",
       "      <td>Bryce National Park</td>\n",
       "      <td>84</td>\n",
       "    </tr>\n",
       "    <tr>\n",
       "      <th>4</th>\n",
       "      <td>Githopsis specularioides</td>\n",
       "      <td>Great Smoky Mountains National Park</td>\n",
       "      <td>85</td>\n",
       "    </tr>\n",
       "  </tbody>\n",
       "</table>\n",
       "</div>"
      ],
      "text/plain": [
       "            scientific_name                            park_name  observations\n",
       "0        Vicia benghalensis  Great Smoky Mountains National Park            68\n",
       "1            Neovison vison  Great Smoky Mountains National Park            77\n",
       "2         Prunus subcordata               Yosemite National Park           138\n",
       "3      Abutilon theophrasti                  Bryce National Park            84\n",
       "4  Githopsis specularioides  Great Smoky Mountains National Park            85"
      ]
     },
     "execution_count": 3,
     "metadata": {},
     "output_type": "execute_result"
    }
   ],
   "source": [
    "obs_df.head()"
   ]
  },
  {
   "cell_type": "markdown",
   "metadata": {},
   "source": [
    "Questions:\n",
    "\n",
    "1. How big is the dataset?\n",
    "2. How many unique scientific names are there and what are they?\n",
    "3. How many parks are present and what are their names?\n",
    "4. What are the min and maximum number of observations?"
   ]
  },
  {
   "cell_type": "code",
   "execution_count": 4,
   "metadata": {},
   "outputs": [
    {
     "data": {
      "text/plain": [
       "23296"
      ]
     },
     "execution_count": 4,
     "metadata": {},
     "output_type": "execute_result"
    }
   ],
   "source": [
    "len(obs_df)"
   ]
  },
  {
   "cell_type": "code",
   "execution_count": 5,
   "metadata": {},
   "outputs": [
    {
     "name": "stdout",
     "output_type": "stream",
     "text": [
      "There are 5541 unique scientific names.\n",
      "The unique scientific names are:\n",
      "['Vicia benghalensis' 'Neovison vison' 'Prunus subcordata' ...\n",
      " 'Ranunculus hebecarpus' 'Gulo gulo' 'Dichanthelium depauperatum']\n"
     ]
    }
   ],
   "source": [
    "print(\"There are {} unique scientific names.\".format(obs_df.scientific_name.nunique()))\n",
    "print(\"The unique scientific names are:\\n{}\".format(obs_df.scientific_name.unique()))"
   ]
  },
  {
   "cell_type": "code",
   "execution_count": 6,
   "metadata": {},
   "outputs": [
    {
     "name": "stdout",
     "output_type": "stream",
     "text": [
      "There are 4 unique scientific names.\n",
      "The unique scientific names are:\n",
      "['Great Smoky Mountains National Park' 'Yosemite National Park'\n",
      " 'Bryce National Park' 'Yellowstone National Park']\n"
     ]
    }
   ],
   "source": [
    "print(\"There are {} unique scientific names.\".format(obs_df.park_name.nunique()))\n",
    "print(\"The unique scientific names are:\\n{}\".format(obs_df.park_name.unique()))"
   ]
  },
  {
   "cell_type": "markdown",
   "metadata": {},
   "source": [
    "The dataset consists of records for 23296 observations from four national parks. There are 5541 unique organisms presented in the data."
   ]
  },
  {
   "cell_type": "code",
   "execution_count": 7,
   "metadata": {},
   "outputs": [
    {
     "data": {
      "text/html": [
       "<div>\n",
       "<style scoped>\n",
       "    .dataframe tbody tr th:only-of-type {\n",
       "        vertical-align: middle;\n",
       "    }\n",
       "\n",
       "    .dataframe tbody tr th {\n",
       "        vertical-align: top;\n",
       "    }\n",
       "\n",
       "    .dataframe thead th {\n",
       "        text-align: right;\n",
       "    }\n",
       "</style>\n",
       "<table border=\"1\" class=\"dataframe\">\n",
       "  <thead>\n",
       "    <tr style=\"text-align: right;\">\n",
       "      <th></th>\n",
       "      <th>scientific_name</th>\n",
       "      <th>park_name</th>\n",
       "      <th>observations</th>\n",
       "    </tr>\n",
       "  </thead>\n",
       "  <tbody>\n",
       "    <tr>\n",
       "      <th>count</th>\n",
       "      <td>23296</td>\n",
       "      <td>23296</td>\n",
       "      <td>23296.000000</td>\n",
       "    </tr>\n",
       "    <tr>\n",
       "      <th>unique</th>\n",
       "      <td>5541</td>\n",
       "      <td>4</td>\n",
       "      <td>NaN</td>\n",
       "    </tr>\n",
       "    <tr>\n",
       "      <th>top</th>\n",
       "      <td>Castor canadensis</td>\n",
       "      <td>Bryce National Park</td>\n",
       "      <td>NaN</td>\n",
       "    </tr>\n",
       "    <tr>\n",
       "      <th>freq</th>\n",
       "      <td>12</td>\n",
       "      <td>5824</td>\n",
       "      <td>NaN</td>\n",
       "    </tr>\n",
       "    <tr>\n",
       "      <th>mean</th>\n",
       "      <td>NaN</td>\n",
       "      <td>NaN</td>\n",
       "      <td>142.287904</td>\n",
       "    </tr>\n",
       "    <tr>\n",
       "      <th>std</th>\n",
       "      <td>NaN</td>\n",
       "      <td>NaN</td>\n",
       "      <td>69.890532</td>\n",
       "    </tr>\n",
       "    <tr>\n",
       "      <th>min</th>\n",
       "      <td>NaN</td>\n",
       "      <td>NaN</td>\n",
       "      <td>9.000000</td>\n",
       "    </tr>\n",
       "    <tr>\n",
       "      <th>25%</th>\n",
       "      <td>NaN</td>\n",
       "      <td>NaN</td>\n",
       "      <td>86.000000</td>\n",
       "    </tr>\n",
       "    <tr>\n",
       "      <th>50%</th>\n",
       "      <td>NaN</td>\n",
       "      <td>NaN</td>\n",
       "      <td>124.000000</td>\n",
       "    </tr>\n",
       "    <tr>\n",
       "      <th>75%</th>\n",
       "      <td>NaN</td>\n",
       "      <td>NaN</td>\n",
       "      <td>195.000000</td>\n",
       "    </tr>\n",
       "    <tr>\n",
       "      <th>max</th>\n",
       "      <td>NaN</td>\n",
       "      <td>NaN</td>\n",
       "      <td>321.000000</td>\n",
       "    </tr>\n",
       "  </tbody>\n",
       "</table>\n",
       "</div>"
      ],
      "text/plain": [
       "          scientific_name            park_name  observations\n",
       "count               23296                23296  23296.000000\n",
       "unique               5541                    4           NaN\n",
       "top     Castor canadensis  Bryce National Park           NaN\n",
       "freq                   12                 5824           NaN\n",
       "mean                  NaN                  NaN    142.287904\n",
       "std                   NaN                  NaN     69.890532\n",
       "min                   NaN                  NaN      9.000000\n",
       "25%                   NaN                  NaN     86.000000\n",
       "50%                   NaN                  NaN    124.000000\n",
       "75%                   NaN                  NaN    195.000000\n",
       "max                   NaN                  NaN    321.000000"
      ]
     },
     "execution_count": 7,
     "metadata": {},
     "output_type": "execute_result"
    }
   ],
   "source": [
    "obs_df.describe(include = \"all\")"
   ]
  },
  {
   "cell_type": "markdown",
   "metadata": {},
   "source": [
    "Questions:\n",
    "\n",
    "1. Canis lupus is the most frequent scientific name. Why does it appear 12 times if there are only four parks? Are the records duplicated? Are there any other such species?\n",
    "2. Are the records evenly split amongst the four national parks?\n",
    "3. What does the distribution of observations look like?\n",
    "4. Is there any missing data?"
   ]
  },
  {
   "cell_type": "code",
   "execution_count": 8,
   "metadata": {},
   "outputs": [
    {
     "data": {
      "text/html": [
       "<div>\n",
       "<style scoped>\n",
       "    .dataframe tbody tr th:only-of-type {\n",
       "        vertical-align: middle;\n",
       "    }\n",
       "\n",
       "    .dataframe tbody tr th {\n",
       "        vertical-align: top;\n",
       "    }\n",
       "\n",
       "    .dataframe thead th {\n",
       "        text-align: right;\n",
       "    }\n",
       "</style>\n",
       "<table border=\"1\" class=\"dataframe\">\n",
       "  <thead>\n",
       "    <tr style=\"text-align: right;\">\n",
       "      <th></th>\n",
       "      <th>scientific_name</th>\n",
       "      <th>park_name</th>\n",
       "      <th>observations</th>\n",
       "    </tr>\n",
       "  </thead>\n",
       "  <tbody>\n",
       "    <tr>\n",
       "      <th>1294</th>\n",
       "      <td>Canis lupus</td>\n",
       "      <td>Yosemite National Park</td>\n",
       "      <td>35</td>\n",
       "    </tr>\n",
       "    <tr>\n",
       "      <th>1766</th>\n",
       "      <td>Canis lupus</td>\n",
       "      <td>Bryce National Park</td>\n",
       "      <td>27</td>\n",
       "    </tr>\n",
       "    <tr>\n",
       "      <th>7346</th>\n",
       "      <td>Canis lupus</td>\n",
       "      <td>Bryce National Park</td>\n",
       "      <td>29</td>\n",
       "    </tr>\n",
       "    <tr>\n",
       "      <th>9884</th>\n",
       "      <td>Canis lupus</td>\n",
       "      <td>Bryce National Park</td>\n",
       "      <td>74</td>\n",
       "    </tr>\n",
       "    <tr>\n",
       "      <th>10190</th>\n",
       "      <td>Canis lupus</td>\n",
       "      <td>Great Smoky Mountains National Park</td>\n",
       "      <td>15</td>\n",
       "    </tr>\n",
       "    <tr>\n",
       "      <th>10268</th>\n",
       "      <td>Canis lupus</td>\n",
       "      <td>Yellowstone National Park</td>\n",
       "      <td>60</td>\n",
       "    </tr>\n",
       "    <tr>\n",
       "      <th>10907</th>\n",
       "      <td>Canis lupus</td>\n",
       "      <td>Yellowstone National Park</td>\n",
       "      <td>67</td>\n",
       "    </tr>\n",
       "    <tr>\n",
       "      <th>13427</th>\n",
       "      <td>Canis lupus</td>\n",
       "      <td>Yellowstone National Park</td>\n",
       "      <td>203</td>\n",
       "    </tr>\n",
       "    <tr>\n",
       "      <th>17756</th>\n",
       "      <td>Canis lupus</td>\n",
       "      <td>Great Smoky Mountains National Park</td>\n",
       "      <td>14</td>\n",
       "    </tr>\n",
       "    <tr>\n",
       "      <th>19330</th>\n",
       "      <td>Canis lupus</td>\n",
       "      <td>Yosemite National Park</td>\n",
       "      <td>117</td>\n",
       "    </tr>\n",
       "    <tr>\n",
       "      <th>19987</th>\n",
       "      <td>Canis lupus</td>\n",
       "      <td>Yosemite National Park</td>\n",
       "      <td>44</td>\n",
       "    </tr>\n",
       "    <tr>\n",
       "      <th>20353</th>\n",
       "      <td>Canis lupus</td>\n",
       "      <td>Great Smoky Mountains National Park</td>\n",
       "      <td>30</td>\n",
       "    </tr>\n",
       "  </tbody>\n",
       "</table>\n",
       "</div>"
      ],
      "text/plain": [
       "      scientific_name                            park_name  observations\n",
       "1294      Canis lupus               Yosemite National Park            35\n",
       "1766      Canis lupus                  Bryce National Park            27\n",
       "7346      Canis lupus                  Bryce National Park            29\n",
       "9884      Canis lupus                  Bryce National Park            74\n",
       "10190     Canis lupus  Great Smoky Mountains National Park            15\n",
       "10268     Canis lupus            Yellowstone National Park            60\n",
       "10907     Canis lupus            Yellowstone National Park            67\n",
       "13427     Canis lupus            Yellowstone National Park           203\n",
       "17756     Canis lupus  Great Smoky Mountains National Park            14\n",
       "19330     Canis lupus               Yosemite National Park           117\n",
       "19987     Canis lupus               Yosemite National Park            44\n",
       "20353     Canis lupus  Great Smoky Mountains National Park            30"
      ]
     },
     "execution_count": 8,
     "metadata": {},
     "output_type": "execute_result"
    }
   ],
   "source": [
    "obs_df[obs_df.scientific_name == \"Canis lupus\"]"
   ]
  },
  {
   "cell_type": "markdown",
   "metadata": {},
   "source": [
    "It is very interesting that the Canis lupus data does not appear to be duplicated. It seems that two of the entries for each park have considerably fewer observations than the remaining entry. Could this have something to do with why it has 12 records? The reason does not appear to be available with the information for `observations.csv`. Perhaps `species_info.csv` will provide the need context."
   ]
  },
  {
   "cell_type": "code",
   "execution_count": 9,
   "metadata": {},
   "outputs": [
    {
     "data": {
      "text/plain": [
       "Bryce National Park                    5824\n",
       "Yosemite National Park                 5824\n",
       "Yellowstone National Park              5824\n",
       "Great Smoky Mountains National Park    5824\n",
       "Name: park_name, dtype: int64"
      ]
     },
     "execution_count": 9,
     "metadata": {},
     "output_type": "execute_result"
    }
   ],
   "source": [
    "obs_df.park_name.value_counts()"
   ]
  },
  {
   "cell_type": "markdown",
   "metadata": {},
   "source": [
    "The data is spread evenly throughout the parks."
   ]
  },
  {
   "cell_type": "code",
   "execution_count": 10,
   "metadata": {},
   "outputs": [
    {
     "data": {
      "image/png": "[encoded data removed]",
      "text/plain": [
       "<Figure size 1296x720 with 2 Axes>"
      ]
     },
     "metadata": {
      "needs_background": "light"
     },
     "output_type": "display_data"
    }
   ],
   "source": [
    "import matplotlib.pyplot as plt\n",
    "\n",
    "plt.figure(figsize = (18,10))\n",
    "\n",
    "plt.subplot(1,2,1)\n",
    "plt.hist(x = obs_df.observations,\n",
    "         bins = 20, edgecolor = 'black')\n",
    "plt.xlabel('Number of Observations', fontsize = 20)\n",
    "plt.xticks(fontsize = 15)\n",
    "plt.ylabel('Counts', fontsize = 20)\n",
    "plt.yticks(fontsize = 15)\n",
    "\n",
    "plt.subplot(1,2,2)\n",
    "for park in obs_df.park_name.unique():\n",
    "    hist_df = obs_df[obs_df.park_name == park]\n",
    "    plt.hist(x = hist_df.observations,\n",
    "             bins = 20, edgecolor = 'black', alpha = 0.5, label = park)\n",
    "\n",
    "plt.xlabel('Number of Observations', fontsize = 20)\n",
    "plt.xticks(fontsize = 15)\n",
    "plt.ylabel('Counts', fontsize = 20)\n",
    "plt.yticks(fontsize = 15)\n",
    "plt.legend(fontsize = 15)\n",
    "\n",
    "plt.suptitle(\"Distribution of Species Observations\", fontsize = 25, y = 1)\n",
    "plt.tight_layout()\n",
    "plt.savefig('bio_dist.pdf')\n",
    "plt.show()"
   ]
  },
  {
   "cell_type": "markdown",
   "metadata": {},
   "source": [
    "The distribution of observations within the dataset suggest a bimodal distribution. When the distribution is plotted with national park, it becomes immediately apparent that each individual park present a normal distribution, with the exception of Yellowstone. It appears to have a small tail suggesting a slight right skew to the distribution.\n",
    "\n",
    "It appears that Yellowstone National Park is the most populated as it is centered at larger observation values."
   ]
  },
  {
   "cell_type": "code",
   "execution_count": 11,
   "metadata": {},
   "outputs": [
    {
     "data": {
      "image/png": "[encoded data removed]",
      "text/plain": [
       "<Figure size 1440x1152 with 4 Axes>"
      ]
     },
     "metadata": {
      "needs_background": "light"
     },
     "output_type": "display_data"
    }
   ],
   "source": [
    "import seaborn as sns\n",
    "import numpy as np\n",
    "\n",
    "plt.figure(figsize = (20,16))\n",
    "\n",
    "for i in range(len(obs_df.park_name.unique())):\n",
    "    plt.subplot(2,2,i+1)\n",
    "    \n",
    "    hist_df = obs_df[obs_df.park_name == obs_df.park_name.unique()[i]]\n",
    "    \n",
    "    g = sns.histplot(x = 'observations',\n",
    "                     data = hist_df)\n",
    "    \n",
    "    plt.axvline(np.percentile(hist_df.observations, 25), color =  'yellow', linestyle = '--', linewidth = 5,\n",
    "                label = '25%: {}'.format(np.percentile(hist_df.observations, 25)))\n",
    "    \n",
    "    plt.axvline(hist_df.observations.mean(), color =  'black', linestyle = '--', linewidth = 5,\n",
    "                label = r'Mean: {mean:.1f} $\\pm$ {std:.1f}'.format(mean = hist_df.observations.mean(),\n",
    "                                                                  std = hist_df.observations.std()))\n",
    "    \n",
    "    plt.axvline(hist_df.observations.median(), color =  'orange', linestyle = '--', linewidth = 5,\n",
    "                label = 'Median: {}'.format(hist_df.observations.median()))\n",
    "    \n",
    "    plt.axvline(np.percentile(hist_df.observations, 75), color =  'red', linestyle = '--', linewidth = 5,\n",
    "                label = '75%: {}'.format(np.percentile(hist_df.observations, 75)))\n",
    "    \n",
    "    plt.xlabel('Observations', fontsize = 15)\n",
    "    plt.xticks(fontsize = 12, rotation = 30)\n",
    "    plt.ylabel('Frequency', fontsize = 15)\n",
    "    plt.yticks(fontsize = 12)\n",
    "    \n",
    "    plt.title(obs_df.park_name.unique()[i], fontsize = 25)\n",
    "    plt.legend(fontsize = 15)\n",
    "    \n",
    "plt.suptitle('Distribution of Observations in Each National Park', fontsize = 25, y = 1.00)\n",
    "plt.tight_layout()\n",
    "plt.savefig('bio_dist_parks.pdf')\n",
    "plt.show()"
   ]
  },
  {
   "cell_type": "markdown",
   "metadata": {},
   "source": [
    "In emamining the distributions individually, I can now see that that scarcely populated right tail in the Yellowstone, Bryce and Yosemite National Park observations has very little affect on the overall skewness of these data.\n",
    "\n",
    "It is interestinf to note that the standard deviations and the interquartile ranges (IQRs) are quite consistent from park to park. This would suggest that what separates the observational data for each park is a systemic constant. Perhaps this is the result of park size? Is it the type of ecosystem? The funding provided to monitor the park? Without knowing how NPS collects it's data, I will have to be careful to inspect each park individually."
   ]
  },
  {
   "cell_type": "code",
   "execution_count": 12,
   "metadata": {},
   "outputs": [
    {
     "name": "stdout",
     "output_type": "stream",
     "text": [
      "False    23296\n",
      "Name: scientific_name, dtype: int64\n",
      "False    23296\n",
      "Name: park_name, dtype: int64\n",
      "False    23296\n",
      "Name: observations, dtype: int64\n"
     ]
    }
   ],
   "source": [
    "for column in obs_df.columns:\n",
    "    print(obs_df[column].isna().value_counts())"
   ]
  },
  {
   "cell_type": "markdown",
   "metadata": {},
   "source": [
    "It looks as though `observations.csv` is relatively clean as is. The only issue is the presence of species multiple times in each park. Is this a consistant issue?"
   ]
  },
  {
   "cell_type": "code",
   "execution_count": 13,
   "metadata": {},
   "outputs": [
    {
     "data": {
      "image/png": "[encoded data removed]",
      "text/plain": [
       "<Figure size 720x576 with 1 Axes>"
      ]
     },
     "metadata": {
      "needs_background": "light"
     },
     "output_type": "display_data"
    }
   ],
   "source": [
    "import seaborn as sns\n",
    "plt.figure(figsize = (10,8))\n",
    "\n",
    "sns.countplot(x = obs_df.scientific_name.value_counts(),\n",
    "             data = obs_df)\n",
    "plt.xlabel('Number of Species Occurences', fontsize = 20)\n",
    "plt.xticks(fontsize = 15)\n",
    "plt.ylabel(\"Number of Species\", fontsize = 20)\n",
    "plt.yticks(fontsize = 15)\n",
    "plt.title('How Many Species Appear More Than 4 Times?', fontsize = 25)\n",
    "plt.savefig('appearance_num.pdf')\n",
    "plt.show()"
   ]
  },
  {
   "cell_type": "markdown",
   "metadata": {},
   "source": [
    "It appears that species that occur more than four times are exceedingly rare. It is difficult to see in this visualization, so I will create a table of values to better illustrate it."
   ]
  },
  {
   "cell_type": "code",
   "execution_count": 14,
   "metadata": {},
   "outputs": [
    {
     "data": {
      "text/plain": [
       "4     5267\n",
       "8      265\n",
       "12       9\n",
       "Name: scientific_name, dtype: int64"
      ]
     },
     "execution_count": 14,
     "metadata": {},
     "output_type": "execute_result"
    }
   ],
   "source": [
    "obs_df.scientific_name.value_counts().value_counts()"
   ]
  },
  {
   "cell_type": "markdown",
   "metadata": {},
   "source": [
    "There are a total of 274 species that appear more than 4 times in the dataset. What is their proporionality to the enter set of species presented in the data?"
   ]
  },
  {
   "cell_type": "code",
   "execution_count": 15,
   "metadata": {},
   "outputs": [
    {
     "data": {
      "text/plain": [
       "4     95.055044\n",
       "8      4.782530\n",
       "12     0.162426\n",
       "Name: scientific_name, dtype: float64"
      ]
     },
     "execution_count": 15,
     "metadata": {},
     "output_type": "execute_result"
    }
   ],
   "source": [
    "obs_df.scientific_name.value_counts().value_counts() / len(obs_df.scientific_name.unique()) * 100"
   ]
  },
  {
   "cell_type": "markdown",
   "metadata": {},
   "source": [
    "~95.1% of the unique species observed in the four national parks within the dataset occur in each park once, ~4.8% occur 8 times and ~0.2% occur 12 times. Could this be related to conservation status or species category? Or is this related to some information not included in either `observations.csv` or `species.csv`?"
   ]
  },
  {
   "cell_type": "markdown",
   "metadata": {},
   "source": [
    "#### 1.2.2 Species Information"
   ]
  },
  {
   "cell_type": "code",
   "execution_count": 16,
   "metadata": {},
   "outputs": [
    {
     "data": {
      "text/html": [
       "<div>\n",
       "<style scoped>\n",
       "    .dataframe tbody tr th:only-of-type {\n",
       "        vertical-align: middle;\n",
       "    }\n",
       "\n",
       "    .dataframe tbody tr th {\n",
       "        vertical-align: top;\n",
       "    }\n",
       "\n",
       "    .dataframe thead th {\n",
       "        text-align: right;\n",
       "    }\n",
       "</style>\n",
       "<table border=\"1\" class=\"dataframe\">\n",
       "  <thead>\n",
       "    <tr style=\"text-align: right;\">\n",
       "      <th></th>\n",
       "      <th>category</th>\n",
       "      <th>scientific_name</th>\n",
       "      <th>common_names</th>\n",
       "      <th>conservation_status</th>\n",
       "    </tr>\n",
       "  </thead>\n",
       "  <tbody>\n",
       "    <tr>\n",
       "      <th>0</th>\n",
       "      <td>Mammal</td>\n",
       "      <td>Clethrionomys gapperi gapperi</td>\n",
       "      <td>Gapper's Red-Backed Vole</td>\n",
       "      <td>NaN</td>\n",
       "    </tr>\n",
       "    <tr>\n",
       "      <th>1</th>\n",
       "      <td>Mammal</td>\n",
       "      <td>Bos bison</td>\n",
       "      <td>American Bison, Bison</td>\n",
       "      <td>NaN</td>\n",
       "    </tr>\n",
       "    <tr>\n",
       "      <th>2</th>\n",
       "      <td>Mammal</td>\n",
       "      <td>Bos taurus</td>\n",
       "      <td>Aurochs, Aurochs, Domestic Cattle (Feral), Dom...</td>\n",
       "      <td>NaN</td>\n",
       "    </tr>\n",
       "    <tr>\n",
       "      <th>3</th>\n",
       "      <td>Mammal</td>\n",
       "      <td>Ovis aries</td>\n",
       "      <td>Domestic Sheep, Mouflon, Red Sheep, Sheep (Feral)</td>\n",
       "      <td>NaN</td>\n",
       "    </tr>\n",
       "    <tr>\n",
       "      <th>4</th>\n",
       "      <td>Mammal</td>\n",
       "      <td>Cervus elaphus</td>\n",
       "      <td>Wapiti Or Elk</td>\n",
       "      <td>NaN</td>\n",
       "    </tr>\n",
       "  </tbody>\n",
       "</table>\n",
       "</div>"
      ],
      "text/plain": [
       "  category                scientific_name  \\\n",
       "0   Mammal  Clethrionomys gapperi gapperi   \n",
       "1   Mammal                      Bos bison   \n",
       "2   Mammal                     Bos taurus   \n",
       "3   Mammal                     Ovis aries   \n",
       "4   Mammal                 Cervus elaphus   \n",
       "\n",
       "                                        common_names conservation_status  \n",
       "0                           Gapper's Red-Backed Vole                 NaN  \n",
       "1                              American Bison, Bison                 NaN  \n",
       "2  Aurochs, Aurochs, Domestic Cattle (Feral), Dom...                 NaN  \n",
       "3  Domestic Sheep, Mouflon, Red Sheep, Sheep (Feral)                 NaN  \n",
       "4                                      Wapiti Or Elk                 NaN  "
      ]
     },
     "execution_count": 16,
     "metadata": {},
     "output_type": "execute_result"
    }
   ],
   "source": [
    "species_df.head()"
   ]
  },
  {
   "cell_type": "markdown",
   "metadata": {},
   "source": [
    "While `species_info.csv` does not contain observational data, it does contain species category, common name and conservation status information for each species. Depending on the audience, one might use common name information in place of scientific name.\n",
    "\n",
    "Questions:\n",
    "\n",
    "1. What are the species categories?\n",
    "2. What are the conservation statues categories?\n",
    "3. Is the number of species in this dataset consistent with the number of species in the oberservations dataset?"
   ]
  },
  {
   "cell_type": "code",
   "execution_count": 17,
   "metadata": {},
   "outputs": [
    {
     "data": {
      "text/plain": [
       "Vascular Plant       4470\n",
       "Bird                  521\n",
       "Nonvascular Plant     333\n",
       "Mammal                214\n",
       "Fish                  127\n",
       "Amphibian              80\n",
       "Reptile                79\n",
       "Name: category, dtype: int64"
      ]
     },
     "execution_count": 17,
     "metadata": {},
     "output_type": "execute_result"
    }
   ],
   "source": [
    "species_df.category.value_counts()"
   ]
  },
  {
   "cell_type": "markdown",
   "metadata": {},
   "source": [
    "The most well represented species category is vascular plant while reptile is the least represented in `species_info.csv`.\n",
    "\n",
    "Before I can analyze the conservation status information in `species_info.csv`, I need to handle the null values. What does this value represent?"
   ]
  },
  {
   "cell_type": "code",
   "execution_count": 18,
   "metadata": {},
   "outputs": [
    {
     "data": {
      "text/plain": [
       "Species of Concern    161\n",
       "Endangered             16\n",
       "Threatened             10\n",
       "In Recovery             4\n",
       "Name: conservation_status, dtype: int64"
      ]
     },
     "execution_count": 18,
     "metadata": {},
     "output_type": "execute_result"
    }
   ],
   "source": [
    "species_df.conservation_status.value_counts()"
   ]
  },
  {
   "cell_type": "markdown",
   "metadata": {},
   "source": [
    "What appears to be missing from conservation status is a \"not at risk\" category. I will replace the null values with the value \"Not at Risk\"."
   ]
  },
  {
   "cell_type": "code",
   "execution_count": 19,
   "metadata": {},
   "outputs": [
    {
     "data": {
      "text/plain": [
       "Not at Risk           5633\n",
       "Species of Concern     161\n",
       "Endangered              16\n",
       "Threatened              10\n",
       "In Recovery              4\n",
       "Name: conservation_status, dtype: int64"
      ]
     },
     "execution_count": 19,
     "metadata": {},
     "output_type": "execute_result"
    }
   ],
   "source": [
    "species_df.conservation_status.fillna('Not at Risk', inplace = True)\n",
    "\n",
    "species_df.conservation_status.value_counts()"
   ]
  },
  {
   "cell_type": "markdown",
   "metadata": {},
   "source": [
    "Now I see that most of the species in this dataset are not at risk and the least common status is in recovery."
   ]
  },
  {
   "cell_type": "code",
   "execution_count": 20,
   "metadata": {},
   "outputs": [
    {
     "name": "stdout",
     "output_type": "stream",
     "text": [
      "5824\n"
     ]
    }
   ],
   "source": [
    "print(len(species_df))"
   ]
  },
  {
   "cell_type": "markdown",
   "metadata": {},
   "source": [
    "Since `species_info.csv` contains more records than unique species in `observations.csv`, I can conclude that either there are duplicates in `species_info.csv` or there are species present in `species_info.csv` and not in `observations.csv`."
   ]
  },
  {
   "cell_type": "code",
   "execution_count": 21,
   "metadata": {},
   "outputs": [
    {
     "data": {
      "text/plain": [
       "False    5541\n",
       "True      283\n",
       "Name: scientific_name, dtype: int64"
      ]
     },
     "execution_count": 21,
     "metadata": {},
     "output_type": "execute_result"
    }
   ],
   "source": [
    "species_df.scientific_name.duplicated().value_counts()"
   ]
  },
  {
   "cell_type": "markdown",
   "metadata": {},
   "source": [
    "`species_info` has the same number of unique species but there are 283 duplicated scientific names in this dataset. Why is that the case?"
   ]
  },
  {
   "cell_type": "code",
   "execution_count": 22,
   "metadata": {},
   "outputs": [
    {
     "data": {
      "text/html": [
       "<div>\n",
       "<style scoped>\n",
       "    .dataframe tbody tr th:only-of-type {\n",
       "        vertical-align: middle;\n",
       "    }\n",
       "\n",
       "    .dataframe tbody tr th {\n",
       "        vertical-align: top;\n",
       "    }\n",
       "\n",
       "    .dataframe thead th {\n",
       "        text-align: right;\n",
       "    }\n",
       "</style>\n",
       "<table border=\"1\" class=\"dataframe\">\n",
       "  <thead>\n",
       "    <tr style=\"text-align: right;\">\n",
       "      <th></th>\n",
       "      <th>category</th>\n",
       "      <th>scientific_name</th>\n",
       "      <th>common_names</th>\n",
       "      <th>conservation_status</th>\n",
       "    </tr>\n",
       "  </thead>\n",
       "  <tbody>\n",
       "    <tr>\n",
       "      <th>count</th>\n",
       "      <td>5824</td>\n",
       "      <td>5824</td>\n",
       "      <td>5824</td>\n",
       "      <td>5824</td>\n",
       "    </tr>\n",
       "    <tr>\n",
       "      <th>unique</th>\n",
       "      <td>7</td>\n",
       "      <td>5541</td>\n",
       "      <td>5504</td>\n",
       "      <td>5</td>\n",
       "    </tr>\n",
       "    <tr>\n",
       "      <th>top</th>\n",
       "      <td>Vascular Plant</td>\n",
       "      <td>Columba livia</td>\n",
       "      <td>Dicranum Moss</td>\n",
       "      <td>Not at Risk</td>\n",
       "    </tr>\n",
       "    <tr>\n",
       "      <th>freq</th>\n",
       "      <td>4470</td>\n",
       "      <td>3</td>\n",
       "      <td>7</td>\n",
       "      <td>5633</td>\n",
       "    </tr>\n",
       "  </tbody>\n",
       "</table>\n",
       "</div>"
      ],
      "text/plain": [
       "              category scientific_name   common_names conservation_status\n",
       "count             5824            5824           5824                5824\n",
       "unique               7            5541           5504                   5\n",
       "top     Vascular Plant   Columba livia  Dicranum Moss         Not at Risk\n",
       "freq              4470               3              7                5633"
      ]
     },
     "execution_count": 22,
     "metadata": {},
     "output_type": "execute_result"
    }
   ],
   "source": [
    "species_df.describe(include = 'all')"
   ]
  },
  {
   "cell_type": "code",
   "execution_count": 23,
   "metadata": {},
   "outputs": [
    {
     "data": {
      "text/html": [
       "<div>\n",
       "<style scoped>\n",
       "    .dataframe tbody tr th:only-of-type {\n",
       "        vertical-align: middle;\n",
       "    }\n",
       "\n",
       "    .dataframe tbody tr th {\n",
       "        vertical-align: top;\n",
       "    }\n",
       "\n",
       "    .dataframe thead th {\n",
       "        text-align: right;\n",
       "    }\n",
       "</style>\n",
       "<table border=\"1\" class=\"dataframe\">\n",
       "  <thead>\n",
       "    <tr style=\"text-align: right;\">\n",
       "      <th></th>\n",
       "      <th>category</th>\n",
       "      <th>scientific_name</th>\n",
       "      <th>common_names</th>\n",
       "      <th>conservation_status</th>\n",
       "    </tr>\n",
       "  </thead>\n",
       "  <tbody>\n",
       "    <tr>\n",
       "      <th>count</th>\n",
       "      <td>283</td>\n",
       "      <td>283</td>\n",
       "      <td>283</td>\n",
       "      <td>283</td>\n",
       "    </tr>\n",
       "    <tr>\n",
       "      <th>unique</th>\n",
       "      <td>6</td>\n",
       "      <td>274</td>\n",
       "      <td>282</td>\n",
       "      <td>5</td>\n",
       "    </tr>\n",
       "    <tr>\n",
       "      <th>top</th>\n",
       "      <td>Vascular Plant</td>\n",
       "      <td>Holcus lanatus</td>\n",
       "      <td>Gray Wolf, Wolf</td>\n",
       "      <td>Not at Risk</td>\n",
       "    </tr>\n",
       "    <tr>\n",
       "      <th>freq</th>\n",
       "      <td>208</td>\n",
       "      <td>2</td>\n",
       "      <td>2</td>\n",
       "      <td>270</td>\n",
       "    </tr>\n",
       "  </tbody>\n",
       "</table>\n",
       "</div>"
      ],
      "text/plain": [
       "              category scientific_name     common_names conservation_status\n",
       "count              283             283              283                 283\n",
       "unique               6             274              282                   5\n",
       "top     Vascular Plant  Holcus lanatus  Gray Wolf, Wolf         Not at Risk\n",
       "freq               208               2                2                 270"
      ]
     },
     "execution_count": 23,
     "metadata": {},
     "output_type": "execute_result"
    }
   ],
   "source": [
    "species_df[species_df.scientific_name.duplicated() == True].describe(include = 'all')"
   ]
  },
  {
   "cell_type": "code",
   "execution_count": 24,
   "metadata": {
    "scrolled": true
   },
   "outputs": [
    {
     "data": {
      "text/html": [
       "<div>\n",
       "<style scoped>\n",
       "    .dataframe tbody tr th:only-of-type {\n",
       "        vertical-align: middle;\n",
       "    }\n",
       "\n",
       "    .dataframe tbody tr th {\n",
       "        vertical-align: top;\n",
       "    }\n",
       "\n",
       "    .dataframe thead th {\n",
       "        text-align: right;\n",
       "    }\n",
       "</style>\n",
       "<table border=\"1\" class=\"dataframe\">\n",
       "  <thead>\n",
       "    <tr style=\"text-align: right;\">\n",
       "      <th></th>\n",
       "      <th>category</th>\n",
       "      <th>scientific_name</th>\n",
       "      <th>common_names</th>\n",
       "      <th>conservation_status</th>\n",
       "    </tr>\n",
       "  </thead>\n",
       "  <tbody>\n",
       "    <tr>\n",
       "      <th>count</th>\n",
       "      <td>5541</td>\n",
       "      <td>5541</td>\n",
       "      <td>5541</td>\n",
       "      <td>5541</td>\n",
       "    </tr>\n",
       "    <tr>\n",
       "      <th>unique</th>\n",
       "      <td>7</td>\n",
       "      <td>5541</td>\n",
       "      <td>5229</td>\n",
       "      <td>5</td>\n",
       "    </tr>\n",
       "    <tr>\n",
       "      <th>top</th>\n",
       "      <td>Vascular Plant</td>\n",
       "      <td>Melica spectabilis</td>\n",
       "      <td>Brachythecium Moss</td>\n",
       "      <td>Not at Risk</td>\n",
       "    </tr>\n",
       "    <tr>\n",
       "      <th>freq</th>\n",
       "      <td>4262</td>\n",
       "      <td>1</td>\n",
       "      <td>7</td>\n",
       "      <td>5363</td>\n",
       "    </tr>\n",
       "  </tbody>\n",
       "</table>\n",
       "</div>"
      ],
      "text/plain": [
       "              category     scientific_name        common_names  \\\n",
       "count             5541                5541                5541   \n",
       "unique               7                5541                5229   \n",
       "top     Vascular Plant  Melica spectabilis  Brachythecium Moss   \n",
       "freq              4262                   1                   7   \n",
       "\n",
       "       conservation_status  \n",
       "count                 5541  \n",
       "unique                   5  \n",
       "top            Not at Risk  \n",
       "freq                  5363  "
      ]
     },
     "execution_count": 24,
     "metadata": {},
     "output_type": "execute_result"
    }
   ],
   "source": [
    "species_df[species_df.scientific_name.duplicated() == False].describe(include = 'all')"
   ]
  },
  {
   "cell_type": "markdown",
   "metadata": {},
   "source": [
    "The most common of the common names is Dicranum Moss. This suggests that common names may be common to more than one species, making the column not necessarily useful for consevation analysis.\n",
    "\n",
    "When inspecting the scientific names that are duplicated, the tables show that there are 5541 species that appear, of which 267 appear twice and seven that appear three times. Perhaps this signifies transitions in conservation status? For example, one might expect a species that is not at risk to be infrequently monitored whereas and endangered species may be watched more closely to determine if the status changes."
   ]
  },
  {
   "cell_type": "code",
   "execution_count": 25,
   "metadata": {},
   "outputs": [
    {
     "data": {
      "text/html": [
       "<div>\n",
       "<style scoped>\n",
       "    .dataframe tbody tr th:only-of-type {\n",
       "        vertical-align: middle;\n",
       "    }\n",
       "\n",
       "    .dataframe tbody tr th {\n",
       "        vertical-align: top;\n",
       "    }\n",
       "\n",
       "    .dataframe thead th {\n",
       "        text-align: right;\n",
       "    }\n",
       "</style>\n",
       "<table border=\"1\" class=\"dataframe\">\n",
       "  <thead>\n",
       "    <tr style=\"text-align: right;\">\n",
       "      <th></th>\n",
       "      <th>category</th>\n",
       "      <th>scientific_name</th>\n",
       "      <th>common_names</th>\n",
       "      <th>conservation_status</th>\n",
       "    </tr>\n",
       "  </thead>\n",
       "  <tbody>\n",
       "    <tr>\n",
       "      <th>2737</th>\n",
       "      <td>Nonvascular Plant</td>\n",
       "      <td>Dicranum flagellare</td>\n",
       "      <td>Dicranum Moss</td>\n",
       "      <td>Not at Risk</td>\n",
       "    </tr>\n",
       "    <tr>\n",
       "      <th>2738</th>\n",
       "      <td>Nonvascular Plant</td>\n",
       "      <td>Dicranum fulvum</td>\n",
       "      <td>Dicranum Moss</td>\n",
       "      <td>Not at Risk</td>\n",
       "    </tr>\n",
       "    <tr>\n",
       "      <th>2739</th>\n",
       "      <td>Nonvascular Plant</td>\n",
       "      <td>Dicranum fuscescens</td>\n",
       "      <td>Dicranum Moss</td>\n",
       "      <td>Not at Risk</td>\n",
       "    </tr>\n",
       "    <tr>\n",
       "      <th>2741</th>\n",
       "      <td>Nonvascular Plant</td>\n",
       "      <td>Dicranum polysetum</td>\n",
       "      <td>Dicranum Moss</td>\n",
       "      <td>Not at Risk</td>\n",
       "    </tr>\n",
       "    <tr>\n",
       "      <th>2742</th>\n",
       "      <td>Nonvascular Plant</td>\n",
       "      <td>Dicranum scoparium</td>\n",
       "      <td>Dicranum Moss</td>\n",
       "      <td>Not at Risk</td>\n",
       "    </tr>\n",
       "    <tr>\n",
       "      <th>2743</th>\n",
       "      <td>Nonvascular Plant</td>\n",
       "      <td>Dicranum spurium</td>\n",
       "      <td>Dicranum Moss</td>\n",
       "      <td>Not at Risk</td>\n",
       "    </tr>\n",
       "    <tr>\n",
       "      <th>2745</th>\n",
       "      <td>Nonvascular Plant</td>\n",
       "      <td>Dicranum viride</td>\n",
       "      <td>Dicranum Moss</td>\n",
       "      <td>Not at Risk</td>\n",
       "    </tr>\n",
       "  </tbody>\n",
       "</table>\n",
       "</div>"
      ],
      "text/plain": [
       "               category      scientific_name   common_names  \\\n",
       "2737  Nonvascular Plant  Dicranum flagellare  Dicranum Moss   \n",
       "2738  Nonvascular Plant      Dicranum fulvum  Dicranum Moss   \n",
       "2739  Nonvascular Plant  Dicranum fuscescens  Dicranum Moss   \n",
       "2741  Nonvascular Plant   Dicranum polysetum  Dicranum Moss   \n",
       "2742  Nonvascular Plant   Dicranum scoparium  Dicranum Moss   \n",
       "2743  Nonvascular Plant     Dicranum spurium  Dicranum Moss   \n",
       "2745  Nonvascular Plant      Dicranum viride  Dicranum Moss   \n",
       "\n",
       "     conservation_status  \n",
       "2737         Not at Risk  \n",
       "2738         Not at Risk  \n",
       "2739         Not at Risk  \n",
       "2741         Not at Risk  \n",
       "2742         Not at Risk  \n",
       "2743         Not at Risk  \n",
       "2745         Not at Risk  "
      ]
     },
     "execution_count": 25,
     "metadata": {},
     "output_type": "execute_result"
    }
   ],
   "source": [
    "species_df[species_df.common_names == 'Dicranum Moss']"
   ]
  },
  {
   "cell_type": "code",
   "execution_count": 26,
   "metadata": {},
   "outputs": [
    {
     "data": {
      "text/plain": [
       "1    5256\n",
       "2     207\n",
       "3      24\n",
       "4      10\n",
       "6       3\n",
       "5       2\n",
       "7       2\n",
       "Name: common_names, dtype: int64"
      ]
     },
     "execution_count": 26,
     "metadata": {},
     "output_type": "execute_result"
    }
   ],
   "source": [
    "species_df.common_names.value_counts().value_counts()"
   ]
  },
  {
   "cell_type": "markdown",
   "metadata": {},
   "source": [
    "The majority of the common names in `species_info.csv` appear to be unique to a given species. The fact that so many share common names, however, leads me to exclude this feature from my analysis.\n",
    "\n",
    "Question:\n",
    "\n",
    "What are the conservation status distributions for each of the catergories?"
   ]
  },
  {
   "cell_type": "code",
   "execution_count": 27,
   "metadata": {},
   "outputs": [
    {
     "data": {
      "image/png": "[encoded data removed]",
      "text/plain": [
       "<Figure size 1296x1008 with 7 Axes>"
      ]
     },
     "metadata": {
      "needs_background": "light"
     },
     "output_type": "display_data"
    }
   ],
   "source": [
    "plt.figure(figsize = (18,14))\n",
    "\n",
    "for i in range(len(species_df.category.unique())):\n",
    "        plt.subplot(2, 4, i + 1)\n",
    "        sns.countplot(x = \"conservation_status\",\n",
    "                     data = species_df[species_df.category == species_df.category.unique()[i]])\n",
    "        plt.title(species_df.category.unique()[i], fontsize = 20)\n",
    "        plt.xticks(rotation = 30, ha = 'right', fontsize = 15)\n",
    "        plt.xlabel(\"Status\", fontsize = 15)\n",
    "        plt.ylabel('Frequency', fontsize = 15)\n",
    "        plt.yticks(fontsize = 15)\n",
    "\n",
    "plt.suptitle('Conservation Status of Various Species Categories Observed in National Parks', fontsize = 25, y = 1)\n",
    "plt.tight_layout()\n",
    "plt.show()"
   ]
  },
  {
   "cell_type": "code",
   "execution_count": 28,
   "metadata": {},
   "outputs": [
    {
     "name": "stdout",
     "output_type": "stream",
     "text": [
      "Not at Risk\n",
      " False    5363\n",
      "True      270\n",
      "Name: scientific_name, dtype: int64\n",
      "Species of Concern\n",
      " False    151\n",
      "True      10\n",
      "Name: scientific_name, dtype: int64\n",
      "Endangered\n",
      " False    15\n",
      "True      1\n",
      "Name: scientific_name, dtype: int64\n",
      "Threatened\n",
      " False    10\n",
      "Name: scientific_name, dtype: int64\n",
      "In Recovery\n",
      " False    4\n",
      "Name: scientific_name, dtype: int64\n"
     ]
    }
   ],
   "source": [
    "for status in species_df.conservation_status.unique():\n",
    "    print(status + '\\n', species_df[species_df.conservation_status == status].scientific_name.duplicated().value_counts())"
   ]
  },
  {
   "cell_type": "code",
   "execution_count": 29,
   "metadata": {},
   "outputs": [
    {
     "name": "stdout",
     "output_type": "stream",
     "text": [
      "Not at Risk\n",
      " False    5363\n",
      "Name: scientific_name, dtype: int64\n",
      "Species of Concern\n",
      " False    151\n",
      "Name: scientific_name, dtype: int64\n",
      "Endangered\n",
      " False    15\n",
      "Name: scientific_name, dtype: int64\n",
      "Threatened\n",
      " False    10\n",
      "Name: scientific_name, dtype: int64\n",
      "In Recovery\n",
      " False    4\n",
      "Name: scientific_name, dtype: int64\n"
     ]
    }
   ],
   "source": [
    "species_df = species_df.drop_duplicates(subset = ['scientific_name', 'conservation_status'])\n",
    "\n",
    "for status in species_df.conservation_status.unique():\n",
    "    print(status + '\\n', species_df[species_df.conservation_status == status].scientific_name.duplicated().value_counts())"
   ]
  },
  {
   "cell_type": "code",
   "execution_count": 30,
   "metadata": {},
   "outputs": [
    {
     "data": {
      "text/html": [
       "<div>\n",
       "<style scoped>\n",
       "    .dataframe tbody tr th:only-of-type {\n",
       "        vertical-align: middle;\n",
       "    }\n",
       "\n",
       "    .dataframe tbody tr th {\n",
       "        vertical-align: top;\n",
       "    }\n",
       "\n",
       "    .dataframe thead th {\n",
       "        text-align: right;\n",
       "    }\n",
       "</style>\n",
       "<table border=\"1\" class=\"dataframe\">\n",
       "  <thead>\n",
       "    <tr style=\"text-align: right;\">\n",
       "      <th></th>\n",
       "      <th>category</th>\n",
       "      <th>scientific_name</th>\n",
       "      <th>common_names</th>\n",
       "      <th>conservation_status</th>\n",
       "    </tr>\n",
       "  </thead>\n",
       "  <tbody>\n",
       "    <tr>\n",
       "      <th>count</th>\n",
       "      <td>5543</td>\n",
       "      <td>5543</td>\n",
       "      <td>5543</td>\n",
       "      <td>5543</td>\n",
       "    </tr>\n",
       "    <tr>\n",
       "      <th>unique</th>\n",
       "      <td>7</td>\n",
       "      <td>5541</td>\n",
       "      <td>5230</td>\n",
       "      <td>5</td>\n",
       "    </tr>\n",
       "    <tr>\n",
       "      <th>top</th>\n",
       "      <td>Vascular Plant</td>\n",
       "      <td>Oncorhynchus mykiss</td>\n",
       "      <td>Brachythecium Moss</td>\n",
       "      <td>Not at Risk</td>\n",
       "    </tr>\n",
       "    <tr>\n",
       "      <th>freq</th>\n",
       "      <td>4262</td>\n",
       "      <td>2</td>\n",
       "      <td>7</td>\n",
       "      <td>5363</td>\n",
       "    </tr>\n",
       "  </tbody>\n",
       "</table>\n",
       "</div>"
      ],
      "text/plain": [
       "              category      scientific_name        common_names  \\\n",
       "count             5543                 5543                5543   \n",
       "unique               7                 5541                5230   \n",
       "top     Vascular Plant  Oncorhynchus mykiss  Brachythecium Moss   \n",
       "freq              4262                    2                   7   \n",
       "\n",
       "       conservation_status  \n",
       "count                 5543  \n",
       "unique                   5  \n",
       "top            Not at Risk  \n",
       "freq                  5363  "
      ]
     },
     "execution_count": 30,
     "metadata": {},
     "output_type": "execute_result"
    }
   ],
   "source": [
    "species_df.describe(include = 'all')"
   ]
  },
  {
   "cell_type": "code",
   "execution_count": 31,
   "metadata": {},
   "outputs": [
    {
     "data": {
      "image/png": "[encoded data removed]",
      "text/plain": [
       "<Figure size 1296x1008 with 7 Axes>"
      ]
     },
     "metadata": {
      "needs_background": "light"
     },
     "output_type": "display_data"
    }
   ],
   "source": [
    "plt.figure(figsize = (18,14))\n",
    "\n",
    "for i in range(len(species_df.category.unique())):\n",
    "        plt.subplot(2, 4, i + 1)\n",
    "        sns.countplot(x = \"conservation_status\",\n",
    "                     data = species_df[species_df.category == species_df.category.unique()[i]])\n",
    "        plt.title(species_df.category.unique()[i], fontsize = 20)\n",
    "        plt.xticks(rotation = 30, ha = 'right', fontsize = 15)\n",
    "        plt.xlabel(\"Status\", fontsize = 15)\n",
    "        plt.ylabel('Frequency', fontsize = 15)\n",
    "        plt.yticks(fontsize = 15)\n",
    "\n",
    "plt.suptitle('Conservation Status of Various Species Categories Observed in National Parks', fontsize = 25, y = 1)\n",
    "plt.tight_layout()\n",
    "plt.savefig('cat_dist.pdf')\n",
    "plt.show()"
   ]
  },
  {
   "cell_type": "code",
   "execution_count": 32,
   "metadata": {},
   "outputs": [
    {
     "data": {
      "text/html": [
       "<div>\n",
       "<style scoped>\n",
       "    .dataframe tbody tr th:only-of-type {\n",
       "        vertical-align: middle;\n",
       "    }\n",
       "\n",
       "    .dataframe tbody tr th {\n",
       "        vertical-align: top;\n",
       "    }\n",
       "\n",
       "    .dataframe thead th {\n",
       "        text-align: right;\n",
       "    }\n",
       "</style>\n",
       "<table border=\"1\" class=\"dataframe\">\n",
       "  <thead>\n",
       "    <tr style=\"text-align: right;\">\n",
       "      <th></th>\n",
       "      <th>category</th>\n",
       "      <th>scientific_name</th>\n",
       "      <th>common_names</th>\n",
       "      <th>conservation_status</th>\n",
       "    </tr>\n",
       "  </thead>\n",
       "  <tbody>\n",
       "    <tr>\n",
       "      <th>3020</th>\n",
       "      <td>Mammal</td>\n",
       "      <td>Canis lupus</td>\n",
       "      <td>Gray Wolf, Wolf</td>\n",
       "      <td>In Recovery</td>\n",
       "    </tr>\n",
       "    <tr>\n",
       "      <th>3283</th>\n",
       "      <td>Fish</td>\n",
       "      <td>Oncorhynchus mykiss</td>\n",
       "      <td>Rainbow Trout</td>\n",
       "      <td>Threatened</td>\n",
       "    </tr>\n",
       "  </tbody>\n",
       "</table>\n",
       "</div>"
      ],
      "text/plain": [
       "     category      scientific_name     common_names conservation_status\n",
       "3020   Mammal          Canis lupus  Gray Wolf, Wolf         In Recovery\n",
       "3283     Fish  Oncorhynchus mykiss    Rainbow Trout          Threatened"
      ]
     },
     "execution_count": 32,
     "metadata": {},
     "output_type": "execute_result"
    }
   ],
   "source": [
    "species_df[species_df.scientific_name.duplicated() == True]"
   ]
  },
  {
   "cell_type": "code",
   "execution_count": 33,
   "metadata": {},
   "outputs": [
    {
     "data": {
      "text/html": [
       "<div>\n",
       "<style scoped>\n",
       "    .dataframe tbody tr th:only-of-type {\n",
       "        vertical-align: middle;\n",
       "    }\n",
       "\n",
       "    .dataframe tbody tr th {\n",
       "        vertical-align: top;\n",
       "    }\n",
       "\n",
       "    .dataframe thead th {\n",
       "        text-align: right;\n",
       "    }\n",
       "</style>\n",
       "<table border=\"1\" class=\"dataframe\">\n",
       "  <thead>\n",
       "    <tr style=\"text-align: right;\">\n",
       "      <th></th>\n",
       "      <th>category</th>\n",
       "      <th>scientific_name</th>\n",
       "      <th>common_names</th>\n",
       "      <th>conservation_status</th>\n",
       "    </tr>\n",
       "  </thead>\n",
       "  <tbody>\n",
       "    <tr>\n",
       "      <th>8</th>\n",
       "      <td>Mammal</td>\n",
       "      <td>Canis lupus</td>\n",
       "      <td>Gray Wolf</td>\n",
       "      <td>Endangered</td>\n",
       "    </tr>\n",
       "    <tr>\n",
       "      <th>560</th>\n",
       "      <td>Fish</td>\n",
       "      <td>Oncorhynchus mykiss</td>\n",
       "      <td>Rainbow Trout</td>\n",
       "      <td>Not at Risk</td>\n",
       "    </tr>\n",
       "    <tr>\n",
       "      <th>3020</th>\n",
       "      <td>Mammal</td>\n",
       "      <td>Canis lupus</td>\n",
       "      <td>Gray Wolf, Wolf</td>\n",
       "      <td>In Recovery</td>\n",
       "    </tr>\n",
       "    <tr>\n",
       "      <th>3283</th>\n",
       "      <td>Fish</td>\n",
       "      <td>Oncorhynchus mykiss</td>\n",
       "      <td>Rainbow Trout</td>\n",
       "      <td>Threatened</td>\n",
       "    </tr>\n",
       "  </tbody>\n",
       "</table>\n",
       "</div>"
      ],
      "text/plain": [
       "     category      scientific_name     common_names conservation_status\n",
       "8      Mammal          Canis lupus        Gray Wolf          Endangered\n",
       "560      Fish  Oncorhynchus mykiss    Rainbow Trout         Not at Risk\n",
       "3020   Mammal          Canis lupus  Gray Wolf, Wolf         In Recovery\n",
       "3283     Fish  Oncorhynchus mykiss    Rainbow Trout          Threatened"
      ]
     },
     "execution_count": 33,
     "metadata": {},
     "output_type": "execute_result"
    }
   ],
   "source": [
    "species_df[(species_df.scientific_name == \"Canis lupus\") | (species_df.scientific_name == \"Oncorhynchus mykiss\")]"
   ]
  },
  {
   "cell_type": "markdown",
   "metadata": {},
   "source": [
    "The only duplicated data that remains are Canis lupus (gray wolf) and Oncorhynchus mykiss (rainbow trout). This likely reflects a transition from one conservation status to another. Which conservation status that should be used will be dependent on the observations feature in `observations.csv`. To that end, I will remove this data from `species_df` and fill in the data later."
   ]
  },
  {
   "cell_type": "code",
   "execution_count": 34,
   "metadata": {},
   "outputs": [
    {
     "data": {
      "text/plain": [
       "5539"
      ]
     },
     "execution_count": 34,
     "metadata": {},
     "output_type": "execute_result"
    }
   ],
   "source": [
    "species_df = species_df[(species_df.scientific_name != \"Canis lupus\") & ((species_df.scientific_name != \"Oncorhynchus mykiss\"))]\n",
    "\n",
    "len(species_df)"
   ]
  },
  {
   "cell_type": "code",
   "execution_count": 35,
   "metadata": {},
   "outputs": [
    {
     "data": {
      "text/html": [
       "<div>\n",
       "<style scoped>\n",
       "    .dataframe tbody tr th:only-of-type {\n",
       "        vertical-align: middle;\n",
       "    }\n",
       "\n",
       "    .dataframe tbody tr th {\n",
       "        vertical-align: top;\n",
       "    }\n",
       "\n",
       "    .dataframe thead th {\n",
       "        text-align: right;\n",
       "    }\n",
       "</style>\n",
       "<table border=\"1\" class=\"dataframe\">\n",
       "  <thead>\n",
       "    <tr style=\"text-align: right;\">\n",
       "      <th></th>\n",
       "      <th>category</th>\n",
       "      <th>scientific_name</th>\n",
       "      <th>common_names</th>\n",
       "      <th>conservation_status</th>\n",
       "    </tr>\n",
       "  </thead>\n",
       "  <tbody>\n",
       "  </tbody>\n",
       "</table>\n",
       "</div>"
      ],
      "text/plain": [
       "Empty DataFrame\n",
       "Columns: [category, scientific_name, common_names, conservation_status]\n",
       "Index: []"
      ]
     },
     "execution_count": 35,
     "metadata": {},
     "output_type": "execute_result"
    }
   ],
   "source": [
    "species_df[(species_df.scientific_name == \"Canis lupus\") | (species_df.scientific_name == \"Oncorhynchus mykiss\")]"
   ]
  },
  {
   "cell_type": "markdown",
   "metadata": {},
   "source": [
    "#### 1.2.3 Combining the Datasets"
   ]
  },
  {
   "cell_type": "code",
   "execution_count": 36,
   "metadata": {},
   "outputs": [
    {
     "data": {
      "text/html": [
       "<div>\n",
       "<style scoped>\n",
       "    .dataframe tbody tr th:only-of-type {\n",
       "        vertical-align: middle;\n",
       "    }\n",
       "\n",
       "    .dataframe tbody tr th {\n",
       "        vertical-align: top;\n",
       "    }\n",
       "\n",
       "    .dataframe thead th {\n",
       "        text-align: right;\n",
       "    }\n",
       "</style>\n",
       "<table border=\"1\" class=\"dataframe\">\n",
       "  <thead>\n",
       "    <tr style=\"text-align: right;\">\n",
       "      <th></th>\n",
       "      <th>scientific_name</th>\n",
       "      <th>park_name</th>\n",
       "      <th>observations</th>\n",
       "      <th>category</th>\n",
       "      <th>common_names</th>\n",
       "      <th>conservation_status</th>\n",
       "    </tr>\n",
       "  </thead>\n",
       "  <tbody>\n",
       "    <tr>\n",
       "      <th>0</th>\n",
       "      <td>Vicia benghalensis</td>\n",
       "      <td>Great Smoky Mountains National Park</td>\n",
       "      <td>68</td>\n",
       "      <td>Vascular Plant</td>\n",
       "      <td>Purple Vetch, Reddish Tufted Vetch</td>\n",
       "      <td>Not at Risk</td>\n",
       "    </tr>\n",
       "    <tr>\n",
       "      <th>1</th>\n",
       "      <td>Neovison vison</td>\n",
       "      <td>Great Smoky Mountains National Park</td>\n",
       "      <td>77</td>\n",
       "      <td>Mammal</td>\n",
       "      <td>American Mink</td>\n",
       "      <td>Not at Risk</td>\n",
       "    </tr>\n",
       "    <tr>\n",
       "      <th>2</th>\n",
       "      <td>Prunus subcordata</td>\n",
       "      <td>Yosemite National Park</td>\n",
       "      <td>138</td>\n",
       "      <td>Vascular Plant</td>\n",
       "      <td>Klamath Plum</td>\n",
       "      <td>Not at Risk</td>\n",
       "    </tr>\n",
       "    <tr>\n",
       "      <th>3</th>\n",
       "      <td>Abutilon theophrasti</td>\n",
       "      <td>Bryce National Park</td>\n",
       "      <td>84</td>\n",
       "      <td>Vascular Plant</td>\n",
       "      <td>Velvetleaf</td>\n",
       "      <td>Not at Risk</td>\n",
       "    </tr>\n",
       "    <tr>\n",
       "      <th>4</th>\n",
       "      <td>Githopsis specularioides</td>\n",
       "      <td>Great Smoky Mountains National Park</td>\n",
       "      <td>85</td>\n",
       "      <td>Vascular Plant</td>\n",
       "      <td>Common Bluecup</td>\n",
       "      <td>Not at Risk</td>\n",
       "    </tr>\n",
       "  </tbody>\n",
       "</table>\n",
       "</div>"
      ],
      "text/plain": [
       "            scientific_name                            park_name  \\\n",
       "0        Vicia benghalensis  Great Smoky Mountains National Park   \n",
       "1            Neovison vison  Great Smoky Mountains National Park   \n",
       "2         Prunus subcordata               Yosemite National Park   \n",
       "3      Abutilon theophrasti                  Bryce National Park   \n",
       "4  Githopsis specularioides  Great Smoky Mountains National Park   \n",
       "\n",
       "   observations        category                        common_names  \\\n",
       "0            68  Vascular Plant  Purple Vetch, Reddish Tufted Vetch   \n",
       "1            77          Mammal                       American Mink   \n",
       "2           138  Vascular Plant                        Klamath Plum   \n",
       "3            84  Vascular Plant                          Velvetleaf   \n",
       "4            85  Vascular Plant                      Common Bluecup   \n",
       "\n",
       "  conservation_status  \n",
       "0         Not at Risk  \n",
       "1         Not at Risk  \n",
       "2         Not at Risk  \n",
       "3         Not at Risk  \n",
       "4         Not at Risk  "
      ]
     },
     "execution_count": 36,
     "metadata": {},
     "output_type": "execute_result"
    }
   ],
   "source": [
    "master_data = pd.merge(obs_df, species_df, how = 'left', on = 'scientific_name')\n",
    "\n",
    "master_data.head()"
   ]
  },
  {
   "cell_type": "code",
   "execution_count": 37,
   "metadata": {},
   "outputs": [
    {
     "data": {
      "text/html": [
       "<div>\n",
       "<style scoped>\n",
       "    .dataframe tbody tr th:only-of-type {\n",
       "        vertical-align: middle;\n",
       "    }\n",
       "\n",
       "    .dataframe tbody tr th {\n",
       "        vertical-align: top;\n",
       "    }\n",
       "\n",
       "    .dataframe thead th {\n",
       "        text-align: right;\n",
       "    }\n",
       "</style>\n",
       "<table border=\"1\" class=\"dataframe\">\n",
       "  <thead>\n",
       "    <tr style=\"text-align: right;\">\n",
       "      <th></th>\n",
       "      <th>scientific_name</th>\n",
       "      <th>park_name</th>\n",
       "      <th>observations</th>\n",
       "      <th>category</th>\n",
       "      <th>common_names</th>\n",
       "      <th>conservation_status</th>\n",
       "    </tr>\n",
       "  </thead>\n",
       "  <tbody>\n",
       "    <tr>\n",
       "      <th>count</th>\n",
       "      <td>23296</td>\n",
       "      <td>23296</td>\n",
       "      <td>23296.000000</td>\n",
       "      <td>23276</td>\n",
       "      <td>23276</td>\n",
       "      <td>23276</td>\n",
       "    </tr>\n",
       "    <tr>\n",
       "      <th>unique</th>\n",
       "      <td>5541</td>\n",
       "      <td>4</td>\n",
       "      <td>NaN</td>\n",
       "      <td>7</td>\n",
       "      <td>5227</td>\n",
       "      <td>5</td>\n",
       "    </tr>\n",
       "    <tr>\n",
       "      <th>top</th>\n",
       "      <td>Castor canadensis</td>\n",
       "      <td>Bryce National Park</td>\n",
       "      <td>NaN</td>\n",
       "      <td>Vascular Plant</td>\n",
       "      <td>Brachythecium Moss</td>\n",
       "      <td>Not at Risk</td>\n",
       "    </tr>\n",
       "    <tr>\n",
       "      <th>freq</th>\n",
       "      <td>12</td>\n",
       "      <td>5824</td>\n",
       "      <td>NaN</td>\n",
       "      <td>17880</td>\n",
       "      <td>28</td>\n",
       "      <td>22528</td>\n",
       "    </tr>\n",
       "    <tr>\n",
       "      <th>mean</th>\n",
       "      <td>NaN</td>\n",
       "      <td>NaN</td>\n",
       "      <td>142.287904</td>\n",
       "      <td>NaN</td>\n",
       "      <td>NaN</td>\n",
       "      <td>NaN</td>\n",
       "    </tr>\n",
       "    <tr>\n",
       "      <th>std</th>\n",
       "      <td>NaN</td>\n",
       "      <td>NaN</td>\n",
       "      <td>69.890532</td>\n",
       "      <td>NaN</td>\n",
       "      <td>NaN</td>\n",
       "      <td>NaN</td>\n",
       "    </tr>\n",
       "    <tr>\n",
       "      <th>min</th>\n",
       "      <td>NaN</td>\n",
       "      <td>NaN</td>\n",
       "      <td>9.000000</td>\n",
       "      <td>NaN</td>\n",
       "      <td>NaN</td>\n",
       "      <td>NaN</td>\n",
       "    </tr>\n",
       "    <tr>\n",
       "      <th>25%</th>\n",
       "      <td>NaN</td>\n",
       "      <td>NaN</td>\n",
       "      <td>86.000000</td>\n",
       "      <td>NaN</td>\n",
       "      <td>NaN</td>\n",
       "      <td>NaN</td>\n",
       "    </tr>\n",
       "    <tr>\n",
       "      <th>50%</th>\n",
       "      <td>NaN</td>\n",
       "      <td>NaN</td>\n",
       "      <td>124.000000</td>\n",
       "      <td>NaN</td>\n",
       "      <td>NaN</td>\n",
       "      <td>NaN</td>\n",
       "    </tr>\n",
       "    <tr>\n",
       "      <th>75%</th>\n",
       "      <td>NaN</td>\n",
       "      <td>NaN</td>\n",
       "      <td>195.000000</td>\n",
       "      <td>NaN</td>\n",
       "      <td>NaN</td>\n",
       "      <td>NaN</td>\n",
       "    </tr>\n",
       "    <tr>\n",
       "      <th>max</th>\n",
       "      <td>NaN</td>\n",
       "      <td>NaN</td>\n",
       "      <td>321.000000</td>\n",
       "      <td>NaN</td>\n",
       "      <td>NaN</td>\n",
       "      <td>NaN</td>\n",
       "    </tr>\n",
       "  </tbody>\n",
       "</table>\n",
       "</div>"
      ],
      "text/plain": [
       "          scientific_name            park_name  observations        category  \\\n",
       "count               23296                23296  23296.000000           23276   \n",
       "unique               5541                    4           NaN               7   \n",
       "top     Castor canadensis  Bryce National Park           NaN  Vascular Plant   \n",
       "freq                   12                 5824           NaN           17880   \n",
       "mean                  NaN                  NaN    142.287904             NaN   \n",
       "std                   NaN                  NaN     69.890532             NaN   \n",
       "min                   NaN                  NaN      9.000000             NaN   \n",
       "25%                   NaN                  NaN     86.000000             NaN   \n",
       "50%                   NaN                  NaN    124.000000             NaN   \n",
       "75%                   NaN                  NaN    195.000000             NaN   \n",
       "max                   NaN                  NaN    321.000000             NaN   \n",
       "\n",
       "              common_names conservation_status  \n",
       "count                23276               23276  \n",
       "unique                5227                   5  \n",
       "top     Brachythecium Moss         Not at Risk  \n",
       "freq                    28               22528  \n",
       "mean                   NaN                 NaN  \n",
       "std                    NaN                 NaN  \n",
       "min                    NaN                 NaN  \n",
       "25%                    NaN                 NaN  \n",
       "50%                    NaN                 NaN  \n",
       "75%                    NaN                 NaN  \n",
       "max                    NaN                 NaN  "
      ]
     },
     "execution_count": 37,
     "metadata": {},
     "output_type": "execute_result"
    }
   ],
   "source": [
    "master_data.describe(include = 'all')"
   ]
  },
  {
   "cell_type": "markdown",
   "metadata": {},
   "source": [
    "The datasets have now been joined into a master dataset but the records for Canis lupus and Oncorhynchus mykiss are incomplete. Without performing analysis, I can include their category and common names (for Canis lupus I will use Gray Wolf instead of Gray Wolf, Wolf for the common names data.)"
   ]
  },
  {
   "cell_type": "code",
   "execution_count": 38,
   "metadata": {},
   "outputs": [],
   "source": [
    "master_data.loc[master_data.scientific_name == 'Canis lupus', ['category', 'common_names']] = 'Mammal', 'Gray Wolf' \n",
    "\n",
    "master_data.loc[master_data.scientific_name == 'Oncorhynchus mykiss', ['category', 'common_names']] = 'Fish', 'Rainbow Trout' "
   ]
  },
  {
   "cell_type": "code",
   "execution_count": 39,
   "metadata": {},
   "outputs": [
    {
     "data": {
      "text/html": [
       "<div>\n",
       "<style scoped>\n",
       "    .dataframe tbody tr th:only-of-type {\n",
       "        vertical-align: middle;\n",
       "    }\n",
       "\n",
       "    .dataframe tbody tr th {\n",
       "        vertical-align: top;\n",
       "    }\n",
       "\n",
       "    .dataframe thead th {\n",
       "        text-align: right;\n",
       "    }\n",
       "</style>\n",
       "<table border=\"1\" class=\"dataframe\">\n",
       "  <thead>\n",
       "    <tr style=\"text-align: right;\">\n",
       "      <th></th>\n",
       "      <th>scientific_name</th>\n",
       "      <th>park_name</th>\n",
       "      <th>observations</th>\n",
       "      <th>category</th>\n",
       "      <th>common_names</th>\n",
       "      <th>conservation_status</th>\n",
       "    </tr>\n",
       "  </thead>\n",
       "  <tbody>\n",
       "    <tr>\n",
       "      <th>count</th>\n",
       "      <td>23296</td>\n",
       "      <td>23296</td>\n",
       "      <td>23296.000000</td>\n",
       "      <td>23296</td>\n",
       "      <td>23296</td>\n",
       "      <td>23276</td>\n",
       "    </tr>\n",
       "    <tr>\n",
       "      <th>unique</th>\n",
       "      <td>5541</td>\n",
       "      <td>4</td>\n",
       "      <td>NaN</td>\n",
       "      <td>7</td>\n",
       "      <td>5229</td>\n",
       "      <td>5</td>\n",
       "    </tr>\n",
       "    <tr>\n",
       "      <th>top</th>\n",
       "      <td>Castor canadensis</td>\n",
       "      <td>Bryce National Park</td>\n",
       "      <td>NaN</td>\n",
       "      <td>Vascular Plant</td>\n",
       "      <td>Dicranum Moss</td>\n",
       "      <td>Not at Risk</td>\n",
       "    </tr>\n",
       "    <tr>\n",
       "      <th>freq</th>\n",
       "      <td>12</td>\n",
       "      <td>5824</td>\n",
       "      <td>NaN</td>\n",
       "      <td>17880</td>\n",
       "      <td>28</td>\n",
       "      <td>22528</td>\n",
       "    </tr>\n",
       "    <tr>\n",
       "      <th>mean</th>\n",
       "      <td>NaN</td>\n",
       "      <td>NaN</td>\n",
       "      <td>142.287904</td>\n",
       "      <td>NaN</td>\n",
       "      <td>NaN</td>\n",
       "      <td>NaN</td>\n",
       "    </tr>\n",
       "    <tr>\n",
       "      <th>std</th>\n",
       "      <td>NaN</td>\n",
       "      <td>NaN</td>\n",
       "      <td>69.890532</td>\n",
       "      <td>NaN</td>\n",
       "      <td>NaN</td>\n",
       "      <td>NaN</td>\n",
       "    </tr>\n",
       "    <tr>\n",
       "      <th>min</th>\n",
       "      <td>NaN</td>\n",
       "      <td>NaN</td>\n",
       "      <td>9.000000</td>\n",
       "      <td>NaN</td>\n",
       "      <td>NaN</td>\n",
       "      <td>NaN</td>\n",
       "    </tr>\n",
       "    <tr>\n",
       "      <th>25%</th>\n",
       "      <td>NaN</td>\n",
       "      <td>NaN</td>\n",
       "      <td>86.000000</td>\n",
       "      <td>NaN</td>\n",
       "      <td>NaN</td>\n",
       "      <td>NaN</td>\n",
       "    </tr>\n",
       "    <tr>\n",
       "      <th>50%</th>\n",
       "      <td>NaN</td>\n",
       "      <td>NaN</td>\n",
       "      <td>124.000000</td>\n",
       "      <td>NaN</td>\n",
       "      <td>NaN</td>\n",
       "      <td>NaN</td>\n",
       "    </tr>\n",
       "    <tr>\n",
       "      <th>75%</th>\n",
       "      <td>NaN</td>\n",
       "      <td>NaN</td>\n",
       "      <td>195.000000</td>\n",
       "      <td>NaN</td>\n",
       "      <td>NaN</td>\n",
       "      <td>NaN</td>\n",
       "    </tr>\n",
       "    <tr>\n",
       "      <th>max</th>\n",
       "      <td>NaN</td>\n",
       "      <td>NaN</td>\n",
       "      <td>321.000000</td>\n",
       "      <td>NaN</td>\n",
       "      <td>NaN</td>\n",
       "      <td>NaN</td>\n",
       "    </tr>\n",
       "  </tbody>\n",
       "</table>\n",
       "</div>"
      ],
      "text/plain": [
       "          scientific_name            park_name  observations        category  \\\n",
       "count               23296                23296  23296.000000           23296   \n",
       "unique               5541                    4           NaN               7   \n",
       "top     Castor canadensis  Bryce National Park           NaN  Vascular Plant   \n",
       "freq                   12                 5824           NaN           17880   \n",
       "mean                  NaN                  NaN    142.287904             NaN   \n",
       "std                   NaN                  NaN     69.890532             NaN   \n",
       "min                   NaN                  NaN      9.000000             NaN   \n",
       "25%                   NaN                  NaN     86.000000             NaN   \n",
       "50%                   NaN                  NaN    124.000000             NaN   \n",
       "75%                   NaN                  NaN    195.000000             NaN   \n",
       "max                   NaN                  NaN    321.000000             NaN   \n",
       "\n",
       "         common_names conservation_status  \n",
       "count           23296               23276  \n",
       "unique           5229                   5  \n",
       "top     Dicranum Moss         Not at Risk  \n",
       "freq               28               22528  \n",
       "mean              NaN                 NaN  \n",
       "std               NaN                 NaN  \n",
       "min               NaN                 NaN  \n",
       "25%               NaN                 NaN  \n",
       "50%               NaN                 NaN  \n",
       "75%               NaN                 NaN  \n",
       "max               NaN                 NaN  "
      ]
     },
     "execution_count": 39,
     "metadata": {},
     "output_type": "execute_result"
    }
   ],
   "source": [
    "master_data.describe(include = 'all')"
   ]
  },
  {
   "cell_type": "code",
   "execution_count": 40,
   "metadata": {},
   "outputs": [
    {
     "data": {
      "text/html": [
       "<div>\n",
       "<style scoped>\n",
       "    .dataframe tbody tr th:only-of-type {\n",
       "        vertical-align: middle;\n",
       "    }\n",
       "\n",
       "    .dataframe tbody tr th {\n",
       "        vertical-align: top;\n",
       "    }\n",
       "\n",
       "    .dataframe thead th {\n",
       "        text-align: right;\n",
       "    }\n",
       "</style>\n",
       "<table border=\"1\" class=\"dataframe\">\n",
       "  <thead>\n",
       "    <tr style=\"text-align: right;\">\n",
       "      <th></th>\n",
       "      <th>scientific_name</th>\n",
       "      <th>park_name</th>\n",
       "      <th>observations</th>\n",
       "      <th>category</th>\n",
       "      <th>common_names</th>\n",
       "      <th>conservation_status</th>\n",
       "    </tr>\n",
       "  </thead>\n",
       "  <tbody>\n",
       "    <tr>\n",
       "      <th>1294</th>\n",
       "      <td>Canis lupus</td>\n",
       "      <td>Yosemite National Park</td>\n",
       "      <td>35</td>\n",
       "      <td>Mammal</td>\n",
       "      <td>Gray Wolf</td>\n",
       "      <td>NaN</td>\n",
       "    </tr>\n",
       "    <tr>\n",
       "      <th>1766</th>\n",
       "      <td>Canis lupus</td>\n",
       "      <td>Bryce National Park</td>\n",
       "      <td>27</td>\n",
       "      <td>Mammal</td>\n",
       "      <td>Gray Wolf</td>\n",
       "      <td>NaN</td>\n",
       "    </tr>\n",
       "    <tr>\n",
       "      <th>7346</th>\n",
       "      <td>Canis lupus</td>\n",
       "      <td>Bryce National Park</td>\n",
       "      <td>29</td>\n",
       "      <td>Mammal</td>\n",
       "      <td>Gray Wolf</td>\n",
       "      <td>NaN</td>\n",
       "    </tr>\n",
       "    <tr>\n",
       "      <th>9884</th>\n",
       "      <td>Canis lupus</td>\n",
       "      <td>Bryce National Park</td>\n",
       "      <td>74</td>\n",
       "      <td>Mammal</td>\n",
       "      <td>Gray Wolf</td>\n",
       "      <td>NaN</td>\n",
       "    </tr>\n",
       "    <tr>\n",
       "      <th>10190</th>\n",
       "      <td>Canis lupus</td>\n",
       "      <td>Great Smoky Mountains National Park</td>\n",
       "      <td>15</td>\n",
       "      <td>Mammal</td>\n",
       "      <td>Gray Wolf</td>\n",
       "      <td>NaN</td>\n",
       "    </tr>\n",
       "    <tr>\n",
       "      <th>10268</th>\n",
       "      <td>Canis lupus</td>\n",
       "      <td>Yellowstone National Park</td>\n",
       "      <td>60</td>\n",
       "      <td>Mammal</td>\n",
       "      <td>Gray Wolf</td>\n",
       "      <td>NaN</td>\n",
       "    </tr>\n",
       "    <tr>\n",
       "      <th>10907</th>\n",
       "      <td>Canis lupus</td>\n",
       "      <td>Yellowstone National Park</td>\n",
       "      <td>67</td>\n",
       "      <td>Mammal</td>\n",
       "      <td>Gray Wolf</td>\n",
       "      <td>NaN</td>\n",
       "    </tr>\n",
       "    <tr>\n",
       "      <th>13427</th>\n",
       "      <td>Canis lupus</td>\n",
       "      <td>Yellowstone National Park</td>\n",
       "      <td>203</td>\n",
       "      <td>Mammal</td>\n",
       "      <td>Gray Wolf</td>\n",
       "      <td>NaN</td>\n",
       "    </tr>\n",
       "    <tr>\n",
       "      <th>17756</th>\n",
       "      <td>Canis lupus</td>\n",
       "      <td>Great Smoky Mountains National Park</td>\n",
       "      <td>14</td>\n",
       "      <td>Mammal</td>\n",
       "      <td>Gray Wolf</td>\n",
       "      <td>NaN</td>\n",
       "    </tr>\n",
       "    <tr>\n",
       "      <th>19330</th>\n",
       "      <td>Canis lupus</td>\n",
       "      <td>Yosemite National Park</td>\n",
       "      <td>117</td>\n",
       "      <td>Mammal</td>\n",
       "      <td>Gray Wolf</td>\n",
       "      <td>NaN</td>\n",
       "    </tr>\n",
       "    <tr>\n",
       "      <th>19987</th>\n",
       "      <td>Canis lupus</td>\n",
       "      <td>Yosemite National Park</td>\n",
       "      <td>44</td>\n",
       "      <td>Mammal</td>\n",
       "      <td>Gray Wolf</td>\n",
       "      <td>NaN</td>\n",
       "    </tr>\n",
       "    <tr>\n",
       "      <th>20353</th>\n",
       "      <td>Canis lupus</td>\n",
       "      <td>Great Smoky Mountains National Park</td>\n",
       "      <td>30</td>\n",
       "      <td>Mammal</td>\n",
       "      <td>Gray Wolf</td>\n",
       "      <td>NaN</td>\n",
       "    </tr>\n",
       "  </tbody>\n",
       "</table>\n",
       "</div>"
      ],
      "text/plain": [
       "      scientific_name                            park_name  observations  \\\n",
       "1294      Canis lupus               Yosemite National Park            35   \n",
       "1766      Canis lupus                  Bryce National Park            27   \n",
       "7346      Canis lupus                  Bryce National Park            29   \n",
       "9884      Canis lupus                  Bryce National Park            74   \n",
       "10190     Canis lupus  Great Smoky Mountains National Park            15   \n",
       "10268     Canis lupus            Yellowstone National Park            60   \n",
       "10907     Canis lupus            Yellowstone National Park            67   \n",
       "13427     Canis lupus            Yellowstone National Park           203   \n",
       "17756     Canis lupus  Great Smoky Mountains National Park            14   \n",
       "19330     Canis lupus               Yosemite National Park           117   \n",
       "19987     Canis lupus               Yosemite National Park            44   \n",
       "20353     Canis lupus  Great Smoky Mountains National Park            30   \n",
       "\n",
       "      category common_names conservation_status  \n",
       "1294    Mammal    Gray Wolf                 NaN  \n",
       "1766    Mammal    Gray Wolf                 NaN  \n",
       "7346    Mammal    Gray Wolf                 NaN  \n",
       "9884    Mammal    Gray Wolf                 NaN  \n",
       "10190   Mammal    Gray Wolf                 NaN  \n",
       "10268   Mammal    Gray Wolf                 NaN  \n",
       "10907   Mammal    Gray Wolf                 NaN  \n",
       "13427   Mammal    Gray Wolf                 NaN  \n",
       "17756   Mammal    Gray Wolf                 NaN  \n",
       "19330   Mammal    Gray Wolf                 NaN  \n",
       "19987   Mammal    Gray Wolf                 NaN  \n",
       "20353   Mammal    Gray Wolf                 NaN  "
      ]
     },
     "execution_count": 40,
     "metadata": {},
     "output_type": "execute_result"
    }
   ],
   "source": [
    "master_data[master_data.scientific_name == 'Canis lupus']"
   ]
  },
  {
   "cell_type": "code",
   "execution_count": 41,
   "metadata": {},
   "outputs": [
    {
     "data": {
      "text/html": [
       "<div>\n",
       "<style scoped>\n",
       "    .dataframe tbody tr th:only-of-type {\n",
       "        vertical-align: middle;\n",
       "    }\n",
       "\n",
       "    .dataframe tbody tr th {\n",
       "        vertical-align: top;\n",
       "    }\n",
       "\n",
       "    .dataframe thead th {\n",
       "        text-align: right;\n",
       "    }\n",
       "</style>\n",
       "<table border=\"1\" class=\"dataframe\">\n",
       "  <thead>\n",
       "    <tr style=\"text-align: right;\">\n",
       "      <th></th>\n",
       "      <th>scientific_name</th>\n",
       "      <th>park_name</th>\n",
       "      <th>observations</th>\n",
       "      <th>category</th>\n",
       "      <th>common_names</th>\n",
       "      <th>conservation_status</th>\n",
       "    </tr>\n",
       "  </thead>\n",
       "  <tbody>\n",
       "    <tr>\n",
       "      <th>167</th>\n",
       "      <td>Oncorhynchus mykiss</td>\n",
       "      <td>Yosemite National Park</td>\n",
       "      <td>118</td>\n",
       "      <td>Fish</td>\n",
       "      <td>Rainbow Trout</td>\n",
       "      <td>NaN</td>\n",
       "    </tr>\n",
       "    <tr>\n",
       "      <th>925</th>\n",
       "      <td>Oncorhynchus mykiss</td>\n",
       "      <td>Bryce National Park</td>\n",
       "      <td>59</td>\n",
       "      <td>Fish</td>\n",
       "      <td>Rainbow Trout</td>\n",
       "      <td>NaN</td>\n",
       "    </tr>\n",
       "    <tr>\n",
       "      <th>3354</th>\n",
       "      <td>Oncorhynchus mykiss</td>\n",
       "      <td>Great Smoky Mountains National Park</td>\n",
       "      <td>61</td>\n",
       "      <td>Fish</td>\n",
       "      <td>Rainbow Trout</td>\n",
       "      <td>NaN</td>\n",
       "    </tr>\n",
       "    <tr>\n",
       "      <th>4649</th>\n",
       "      <td>Oncorhynchus mykiss</td>\n",
       "      <td>Yellowstone National Park</td>\n",
       "      <td>119</td>\n",
       "      <td>Fish</td>\n",
       "      <td>Rainbow Trout</td>\n",
       "      <td>NaN</td>\n",
       "    </tr>\n",
       "    <tr>\n",
       "      <th>8682</th>\n",
       "      <td>Oncorhynchus mykiss</td>\n",
       "      <td>Yellowstone National Park</td>\n",
       "      <td>253</td>\n",
       "      <td>Fish</td>\n",
       "      <td>Rainbow Trout</td>\n",
       "      <td>NaN</td>\n",
       "    </tr>\n",
       "    <tr>\n",
       "      <th>11893</th>\n",
       "      <td>Oncorhynchus mykiss</td>\n",
       "      <td>Bryce National Park</td>\n",
       "      <td>105</td>\n",
       "      <td>Fish</td>\n",
       "      <td>Rainbow Trout</td>\n",
       "      <td>NaN</td>\n",
       "    </tr>\n",
       "    <tr>\n",
       "      <th>15020</th>\n",
       "      <td>Oncorhynchus mykiss</td>\n",
       "      <td>Great Smoky Mountains National Park</td>\n",
       "      <td>39</td>\n",
       "      <td>Fish</td>\n",
       "      <td>Rainbow Trout</td>\n",
       "      <td>NaN</td>\n",
       "    </tr>\n",
       "    <tr>\n",
       "      <th>15239</th>\n",
       "      <td>Oncorhynchus mykiss</td>\n",
       "      <td>Yosemite National Park</td>\n",
       "      <td>59</td>\n",
       "      <td>Fish</td>\n",
       "      <td>Rainbow Trout</td>\n",
       "      <td>NaN</td>\n",
       "    </tr>\n",
       "  </tbody>\n",
       "</table>\n",
       "</div>"
      ],
      "text/plain": [
       "           scientific_name                            park_name  observations  \\\n",
       "167    Oncorhynchus mykiss               Yosemite National Park           118   \n",
       "925    Oncorhynchus mykiss                  Bryce National Park            59   \n",
       "3354   Oncorhynchus mykiss  Great Smoky Mountains National Park            61   \n",
       "4649   Oncorhynchus mykiss            Yellowstone National Park           119   \n",
       "8682   Oncorhynchus mykiss            Yellowstone National Park           253   \n",
       "11893  Oncorhynchus mykiss                  Bryce National Park           105   \n",
       "15020  Oncorhynchus mykiss  Great Smoky Mountains National Park            39   \n",
       "15239  Oncorhynchus mykiss               Yosemite National Park            59   \n",
       "\n",
       "      category   common_names conservation_status  \n",
       "167       Fish  Rainbow Trout                 NaN  \n",
       "925       Fish  Rainbow Trout                 NaN  \n",
       "3354      Fish  Rainbow Trout                 NaN  \n",
       "4649      Fish  Rainbow Trout                 NaN  \n",
       "8682      Fish  Rainbow Trout                 NaN  \n",
       "11893     Fish  Rainbow Trout                 NaN  \n",
       "15020     Fish  Rainbow Trout                 NaN  \n",
       "15239     Fish  Rainbow Trout                 NaN  "
      ]
     },
     "execution_count": 41,
     "metadata": {},
     "output_type": "execute_result"
    }
   ],
   "source": [
    "master_data[master_data.scientific_name == 'Oncorhynchus mykiss']"
   ]
  },
  {
   "cell_type": "code",
   "execution_count": 42,
   "metadata": {
    "scrolled": false
   },
   "outputs": [
    {
     "name": "stderr",
     "output_type": "stream",
     "text": [
      "C:\\Users\\zcron\\Anaconda3\\lib\\site-packages\\pandas\\core\\indexing.py:1720: SettingWithCopyWarning: \n",
      "A value is trying to be set on a copy of a slice from a DataFrame.\n",
      "Try using .loc[row_indexer,col_indexer] = value instead\n",
      "\n",
      "See the caveats in the documentation: https://pandas.pydata.org/pandas-docs/stable/user_guide/indexing.html#returning-a-view-versus-a-copy\n",
      "  self._setitem_single_column(loc, value, pi)\n",
      "C:\\Users\\zcron\\Anaconda3\\lib\\site-packages\\pandas\\core\\indexing.py:1720: SettingWithCopyWarning: \n",
      "A value is trying to be set on a copy of a slice from a DataFrame.\n",
      "Try using .loc[row_indexer,col_indexer] = value instead\n",
      "\n",
      "See the caveats in the documentation: https://pandas.pydata.org/pandas-docs/stable/user_guide/indexing.html#returning-a-view-versus-a-copy\n",
      "  self._setitem_single_column(loc, value, pi)\n",
      "C:\\Users\\zcron\\Anaconda3\\lib\\site-packages\\pandas\\core\\indexing.py:1720: SettingWithCopyWarning: \n",
      "A value is trying to be set on a copy of a slice from a DataFrame.\n",
      "Try using .loc[row_indexer,col_indexer] = value instead\n",
      "\n",
      "See the caveats in the documentation: https://pandas.pydata.org/pandas-docs/stable/user_guide/indexing.html#returning-a-view-versus-a-copy\n",
      "  self._setitem_single_column(loc, value, pi)\n",
      "C:\\Users\\zcron\\Anaconda3\\lib\\site-packages\\pandas\\core\\indexing.py:1720: SettingWithCopyWarning: \n",
      "A value is trying to be set on a copy of a slice from a DataFrame.\n",
      "Try using .loc[row_indexer,col_indexer] = value instead\n",
      "\n",
      "See the caveats in the documentation: https://pandas.pydata.org/pandas-docs/stable/user_guide/indexing.html#returning-a-view-versus-a-copy\n",
      "  self._setitem_single_column(loc, value, pi)\n",
      "C:\\Users\\zcron\\Anaconda3\\lib\\site-packages\\pandas\\core\\indexing.py:1720: SettingWithCopyWarning: \n",
      "A value is trying to be set on a copy of a slice from a DataFrame.\n",
      "Try using .loc[row_indexer,col_indexer] = value instead\n",
      "\n",
      "See the caveats in the documentation: https://pandas.pydata.org/pandas-docs/stable/user_guide/indexing.html#returning-a-view-versus-a-copy\n",
      "  self._setitem_single_column(loc, value, pi)\n",
      "C:\\Users\\zcron\\Anaconda3\\lib\\site-packages\\pandas\\core\\indexing.py:1720: SettingWithCopyWarning: \n",
      "A value is trying to be set on a copy of a slice from a DataFrame.\n",
      "Try using .loc[row_indexer,col_indexer] = value instead\n",
      "\n",
      "See the caveats in the documentation: https://pandas.pydata.org/pandas-docs/stable/user_guide/indexing.html#returning-a-view-versus-a-copy\n",
      "  self._setitem_single_column(loc, value, pi)\n",
      "C:\\Users\\zcron\\Anaconda3\\lib\\site-packages\\pandas\\core\\indexing.py:1720: SettingWithCopyWarning: \n",
      "A value is trying to be set on a copy of a slice from a DataFrame.\n",
      "Try using .loc[row_indexer,col_indexer] = value instead\n",
      "\n",
      "See the caveats in the documentation: https://pandas.pydata.org/pandas-docs/stable/user_guide/indexing.html#returning-a-view-versus-a-copy\n",
      "  self._setitem_single_column(loc, value, pi)\n",
      "C:\\Users\\zcron\\Anaconda3\\lib\\site-packages\\pandas\\core\\indexing.py:1720: SettingWithCopyWarning: \n",
      "A value is trying to be set on a copy of a slice from a DataFrame.\n",
      "Try using .loc[row_indexer,col_indexer] = value instead\n",
      "\n",
      "See the caveats in the documentation: https://pandas.pydata.org/pandas-docs/stable/user_guide/indexing.html#returning-a-view-versus-a-copy\n",
      "  self._setitem_single_column(loc, value, pi)\n",
      "C:\\Users\\zcron\\Anaconda3\\lib\\site-packages\\pandas\\core\\indexing.py:1720: SettingWithCopyWarning: \n",
      "A value is trying to be set on a copy of a slice from a DataFrame.\n",
      "Try using .loc[row_indexer,col_indexer] = value instead\n",
      "\n",
      "See the caveats in the documentation: https://pandas.pydata.org/pandas-docs/stable/user_guide/indexing.html#returning-a-view-versus-a-copy\n",
      "  self._setitem_single_column(loc, value, pi)\n",
      "C:\\Users\\zcron\\Anaconda3\\lib\\site-packages\\pandas\\core\\indexing.py:1720: SettingWithCopyWarning: \n",
      "A value is trying to be set on a copy of a slice from a DataFrame.\n",
      "Try using .loc[row_indexer,col_indexer] = value instead\n",
      "\n",
      "See the caveats in the documentation: https://pandas.pydata.org/pandas-docs/stable/user_guide/indexing.html#returning-a-view-versus-a-copy\n",
      "  self._setitem_single_column(loc, value, pi)\n",
      "C:\\Users\\zcron\\Anaconda3\\lib\\site-packages\\pandas\\core\\indexing.py:1720: SettingWithCopyWarning: \n",
      "A value is trying to be set on a copy of a slice from a DataFrame.\n",
      "Try using .loc[row_indexer,col_indexer] = value instead\n",
      "\n",
      "See the caveats in the documentation: https://pandas.pydata.org/pandas-docs/stable/user_guide/indexing.html#returning-a-view-versus-a-copy\n",
      "  self._setitem_single_column(loc, value, pi)\n",
      "C:\\Users\\zcron\\Anaconda3\\lib\\site-packages\\pandas\\core\\indexing.py:1720: SettingWithCopyWarning: \n",
      "A value is trying to be set on a copy of a slice from a DataFrame.\n",
      "Try using .loc[row_indexer,col_indexer] = value instead\n",
      "\n",
      "See the caveats in the documentation: https://pandas.pydata.org/pandas-docs/stable/user_guide/indexing.html#returning-a-view-versus-a-copy\n",
      "  self._setitem_single_column(loc, value, pi)\n",
      "C:\\Users\\zcron\\Anaconda3\\lib\\site-packages\\pandas\\core\\indexing.py:1720: SettingWithCopyWarning: \n",
      "A value is trying to be set on a copy of a slice from a DataFrame.\n",
      "Try using .loc[row_indexer,col_indexer] = value instead\n",
      "\n",
      "See the caveats in the documentation: https://pandas.pydata.org/pandas-docs/stable/user_guide/indexing.html#returning-a-view-versus-a-copy\n",
      "  self._setitem_single_column(loc, value, pi)\n",
      "C:\\Users\\zcron\\Anaconda3\\lib\\site-packages\\pandas\\core\\indexing.py:1720: SettingWithCopyWarning: \n",
      "A value is trying to be set on a copy of a slice from a DataFrame.\n",
      "Try using .loc[row_indexer,col_indexer] = value instead\n",
      "\n",
      "See the caveats in the documentation: https://pandas.pydata.org/pandas-docs/stable/user_guide/indexing.html#returning-a-view-versus-a-copy\n",
      "  self._setitem_single_column(loc, value, pi)\n",
      "C:\\Users\\zcron\\Anaconda3\\lib\\site-packages\\pandas\\core\\indexing.py:1720: SettingWithCopyWarning: \n",
      "A value is trying to be set on a copy of a slice from a DataFrame.\n",
      "Try using .loc[row_indexer,col_indexer] = value instead\n",
      "\n",
      "See the caveats in the documentation: https://pandas.pydata.org/pandas-docs/stable/user_guide/indexing.html#returning-a-view-versus-a-copy\n",
      "  self._setitem_single_column(loc, value, pi)\n",
      "C:\\Users\\zcron\\Anaconda3\\lib\\site-packages\\pandas\\core\\indexing.py:1720: SettingWithCopyWarning: \n",
      "A value is trying to be set on a copy of a slice from a DataFrame.\n",
      "Try using .loc[row_indexer,col_indexer] = value instead\n",
      "\n",
      "See the caveats in the documentation: https://pandas.pydata.org/pandas-docs/stable/user_guide/indexing.html#returning-a-view-versus-a-copy\n",
      "  self._setitem_single_column(loc, value, pi)\n"
     ]
    }
   ],
   "source": [
    "species = ['Canis lupus', 'Oncorhynchus mykiss']\n",
    "\n",
    "for park in master_data.park_name.unique():\n",
    "    for item in species:\n",
    "        if item == 'Canis lupus':\n",
    "            park_and_species_data = master_data[(master_data.park_name == park) & (master_data.scientific_name == item)]\n",
    "            park_and_species_data.loc[park_and_species_data.observations < park_and_species_data.observations.max(), 'conservation_status'] = 'Endangered'\n",
    "            park_and_species_data.loc[park_and_species_data.observations == park_and_species_data.observations.max(), 'conservation_status'] = 'In Recovery'\n",
    "            master_data.update(park_and_species_data)\n",
    "        elif item == 'Oncorhynchus mykiss':\n",
    "            park_and_species_data = master_data[(master_data.park_name == park) & (master_data.scientific_name == item)]\n",
    "            park_and_species_data.loc[park_and_species_data.observations < park_and_species_data.observations.max(), 'conservation_status'] = 'Threatened'\n",
    "            park_and_species_data.loc[park_and_species_data.observations == park_and_species_data.observations.max(), 'conservation_status'] = 'Not at Risk'\n",
    "            master_data.update(park_and_species_data)"
   ]
  },
  {
   "cell_type": "code",
   "execution_count": 43,
   "metadata": {},
   "outputs": [
    {
     "data": {
      "text/html": [
       "<div>\n",
       "<style scoped>\n",
       "    .dataframe tbody tr th:only-of-type {\n",
       "        vertical-align: middle;\n",
       "    }\n",
       "\n",
       "    .dataframe tbody tr th {\n",
       "        vertical-align: top;\n",
       "    }\n",
       "\n",
       "    .dataframe thead th {\n",
       "        text-align: right;\n",
       "    }\n",
       "</style>\n",
       "<table border=\"1\" class=\"dataframe\">\n",
       "  <thead>\n",
       "    <tr style=\"text-align: right;\">\n",
       "      <th></th>\n",
       "      <th>scientific_name</th>\n",
       "      <th>park_name</th>\n",
       "      <th>observations</th>\n",
       "      <th>category</th>\n",
       "      <th>common_names</th>\n",
       "      <th>conservation_status</th>\n",
       "    </tr>\n",
       "  </thead>\n",
       "  <tbody>\n",
       "    <tr>\n",
       "      <th>1766</th>\n",
       "      <td>Canis lupus</td>\n",
       "      <td>Bryce National Park</td>\n",
       "      <td>27.0</td>\n",
       "      <td>Mammal</td>\n",
       "      <td>Gray Wolf</td>\n",
       "      <td>Endangered</td>\n",
       "    </tr>\n",
       "    <tr>\n",
       "      <th>7346</th>\n",
       "      <td>Canis lupus</td>\n",
       "      <td>Bryce National Park</td>\n",
       "      <td>29.0</td>\n",
       "      <td>Mammal</td>\n",
       "      <td>Gray Wolf</td>\n",
       "      <td>Endangered</td>\n",
       "    </tr>\n",
       "    <tr>\n",
       "      <th>9884</th>\n",
       "      <td>Canis lupus</td>\n",
       "      <td>Bryce National Park</td>\n",
       "      <td>74.0</td>\n",
       "      <td>Mammal</td>\n",
       "      <td>Gray Wolf</td>\n",
       "      <td>In Recovery</td>\n",
       "    </tr>\n",
       "  </tbody>\n",
       "</table>\n",
       "</div>"
      ],
      "text/plain": [
       "     scientific_name            park_name  observations category common_names  \\\n",
       "1766     Canis lupus  Bryce National Park          27.0   Mammal    Gray Wolf   \n",
       "7346     Canis lupus  Bryce National Park          29.0   Mammal    Gray Wolf   \n",
       "9884     Canis lupus  Bryce National Park          74.0   Mammal    Gray Wolf   \n",
       "\n",
       "     conservation_status  \n",
       "1766          Endangered  \n",
       "7346          Endangered  \n",
       "9884         In Recovery  "
      ]
     },
     "metadata": {},
     "output_type": "display_data"
    },
    {
     "data": {
      "text/html": [
       "<div>\n",
       "<style scoped>\n",
       "    .dataframe tbody tr th:only-of-type {\n",
       "        vertical-align: middle;\n",
       "    }\n",
       "\n",
       "    .dataframe tbody tr th {\n",
       "        vertical-align: top;\n",
       "    }\n",
       "\n",
       "    .dataframe thead th {\n",
       "        text-align: right;\n",
       "    }\n",
       "</style>\n",
       "<table border=\"1\" class=\"dataframe\">\n",
       "  <thead>\n",
       "    <tr style=\"text-align: right;\">\n",
       "      <th></th>\n",
       "      <th>scientific_name</th>\n",
       "      <th>park_name</th>\n",
       "      <th>observations</th>\n",
       "      <th>category</th>\n",
       "      <th>common_names</th>\n",
       "      <th>conservation_status</th>\n",
       "    </tr>\n",
       "  </thead>\n",
       "  <tbody>\n",
       "    <tr>\n",
       "      <th>10190</th>\n",
       "      <td>Canis lupus</td>\n",
       "      <td>Great Smoky Mountains National Park</td>\n",
       "      <td>15.0</td>\n",
       "      <td>Mammal</td>\n",
       "      <td>Gray Wolf</td>\n",
       "      <td>Endangered</td>\n",
       "    </tr>\n",
       "    <tr>\n",
       "      <th>17756</th>\n",
       "      <td>Canis lupus</td>\n",
       "      <td>Great Smoky Mountains National Park</td>\n",
       "      <td>14.0</td>\n",
       "      <td>Mammal</td>\n",
       "      <td>Gray Wolf</td>\n",
       "      <td>Endangered</td>\n",
       "    </tr>\n",
       "    <tr>\n",
       "      <th>20353</th>\n",
       "      <td>Canis lupus</td>\n",
       "      <td>Great Smoky Mountains National Park</td>\n",
       "      <td>30.0</td>\n",
       "      <td>Mammal</td>\n",
       "      <td>Gray Wolf</td>\n",
       "      <td>In Recovery</td>\n",
       "    </tr>\n",
       "  </tbody>\n",
       "</table>\n",
       "</div>"
      ],
      "text/plain": [
       "      scientific_name                            park_name  observations  \\\n",
       "10190     Canis lupus  Great Smoky Mountains National Park          15.0   \n",
       "17756     Canis lupus  Great Smoky Mountains National Park          14.0   \n",
       "20353     Canis lupus  Great Smoky Mountains National Park          30.0   \n",
       "\n",
       "      category common_names conservation_status  \n",
       "10190   Mammal    Gray Wolf          Endangered  \n",
       "17756   Mammal    Gray Wolf          Endangered  \n",
       "20353   Mammal    Gray Wolf         In Recovery  "
      ]
     },
     "metadata": {},
     "output_type": "display_data"
    },
    {
     "data": {
      "text/html": [
       "<div>\n",
       "<style scoped>\n",
       "    .dataframe tbody tr th:only-of-type {\n",
       "        vertical-align: middle;\n",
       "    }\n",
       "\n",
       "    .dataframe tbody tr th {\n",
       "        vertical-align: top;\n",
       "    }\n",
       "\n",
       "    .dataframe thead th {\n",
       "        text-align: right;\n",
       "    }\n",
       "</style>\n",
       "<table border=\"1\" class=\"dataframe\">\n",
       "  <thead>\n",
       "    <tr style=\"text-align: right;\">\n",
       "      <th></th>\n",
       "      <th>scientific_name</th>\n",
       "      <th>park_name</th>\n",
       "      <th>observations</th>\n",
       "      <th>category</th>\n",
       "      <th>common_names</th>\n",
       "      <th>conservation_status</th>\n",
       "    </tr>\n",
       "  </thead>\n",
       "  <tbody>\n",
       "    <tr>\n",
       "      <th>10268</th>\n",
       "      <td>Canis lupus</td>\n",
       "      <td>Yellowstone National Park</td>\n",
       "      <td>60.0</td>\n",
       "      <td>Mammal</td>\n",
       "      <td>Gray Wolf</td>\n",
       "      <td>Endangered</td>\n",
       "    </tr>\n",
       "    <tr>\n",
       "      <th>10907</th>\n",
       "      <td>Canis lupus</td>\n",
       "      <td>Yellowstone National Park</td>\n",
       "      <td>67.0</td>\n",
       "      <td>Mammal</td>\n",
       "      <td>Gray Wolf</td>\n",
       "      <td>Endangered</td>\n",
       "    </tr>\n",
       "    <tr>\n",
       "      <th>13427</th>\n",
       "      <td>Canis lupus</td>\n",
       "      <td>Yellowstone National Park</td>\n",
       "      <td>203.0</td>\n",
       "      <td>Mammal</td>\n",
       "      <td>Gray Wolf</td>\n",
       "      <td>In Recovery</td>\n",
       "    </tr>\n",
       "  </tbody>\n",
       "</table>\n",
       "</div>"
      ],
      "text/plain": [
       "      scientific_name                  park_name  observations category  \\\n",
       "10268     Canis lupus  Yellowstone National Park          60.0   Mammal   \n",
       "10907     Canis lupus  Yellowstone National Park          67.0   Mammal   \n",
       "13427     Canis lupus  Yellowstone National Park         203.0   Mammal   \n",
       "\n",
       "      common_names conservation_status  \n",
       "10268    Gray Wolf          Endangered  \n",
       "10907    Gray Wolf          Endangered  \n",
       "13427    Gray Wolf         In Recovery  "
      ]
     },
     "metadata": {},
     "output_type": "display_data"
    },
    {
     "data": {
      "text/html": [
       "<div>\n",
       "<style scoped>\n",
       "    .dataframe tbody tr th:only-of-type {\n",
       "        vertical-align: middle;\n",
       "    }\n",
       "\n",
       "    .dataframe tbody tr th {\n",
       "        vertical-align: top;\n",
       "    }\n",
       "\n",
       "    .dataframe thead th {\n",
       "        text-align: right;\n",
       "    }\n",
       "</style>\n",
       "<table border=\"1\" class=\"dataframe\">\n",
       "  <thead>\n",
       "    <tr style=\"text-align: right;\">\n",
       "      <th></th>\n",
       "      <th>scientific_name</th>\n",
       "      <th>park_name</th>\n",
       "      <th>observations</th>\n",
       "      <th>category</th>\n",
       "      <th>common_names</th>\n",
       "      <th>conservation_status</th>\n",
       "    </tr>\n",
       "  </thead>\n",
       "  <tbody>\n",
       "    <tr>\n",
       "      <th>1294</th>\n",
       "      <td>Canis lupus</td>\n",
       "      <td>Yosemite National Park</td>\n",
       "      <td>35.0</td>\n",
       "      <td>Mammal</td>\n",
       "      <td>Gray Wolf</td>\n",
       "      <td>Endangered</td>\n",
       "    </tr>\n",
       "    <tr>\n",
       "      <th>19330</th>\n",
       "      <td>Canis lupus</td>\n",
       "      <td>Yosemite National Park</td>\n",
       "      <td>117.0</td>\n",
       "      <td>Mammal</td>\n",
       "      <td>Gray Wolf</td>\n",
       "      <td>In Recovery</td>\n",
       "    </tr>\n",
       "    <tr>\n",
       "      <th>19987</th>\n",
       "      <td>Canis lupus</td>\n",
       "      <td>Yosemite National Park</td>\n",
       "      <td>44.0</td>\n",
       "      <td>Mammal</td>\n",
       "      <td>Gray Wolf</td>\n",
       "      <td>Endangered</td>\n",
       "    </tr>\n",
       "  </tbody>\n",
       "</table>\n",
       "</div>"
      ],
      "text/plain": [
       "      scientific_name               park_name  observations category  \\\n",
       "1294      Canis lupus  Yosemite National Park          35.0   Mammal   \n",
       "19330     Canis lupus  Yosemite National Park         117.0   Mammal   \n",
       "19987     Canis lupus  Yosemite National Park          44.0   Mammal   \n",
       "\n",
       "      common_names conservation_status  \n",
       "1294     Gray Wolf          Endangered  \n",
       "19330    Gray Wolf         In Recovery  \n",
       "19987    Gray Wolf          Endangered  "
      ]
     },
     "metadata": {},
     "output_type": "display_data"
    },
    {
     "data": {
      "text/html": [
       "<div>\n",
       "<style scoped>\n",
       "    .dataframe tbody tr th:only-of-type {\n",
       "        vertical-align: middle;\n",
       "    }\n",
       "\n",
       "    .dataframe tbody tr th {\n",
       "        vertical-align: top;\n",
       "    }\n",
       "\n",
       "    .dataframe thead th {\n",
       "        text-align: right;\n",
       "    }\n",
       "</style>\n",
       "<table border=\"1\" class=\"dataframe\">\n",
       "  <thead>\n",
       "    <tr style=\"text-align: right;\">\n",
       "      <th></th>\n",
       "    </tr>\n",
       "  </thead>\n",
       "  <tbody>\n",
       "  </tbody>\n",
       "</table>\n",
       "</div>"
      ],
      "text/plain": [
       "Empty DataFrame\n",
       "Columns: []\n",
       "Index: []"
      ]
     },
     "execution_count": 43,
     "metadata": {},
     "output_type": "execute_result"
    }
   ],
   "source": [
    "master_data[master_data.scientific_name == \"Canis lupus\"].groupby('park_name').apply(display)"
   ]
  },
  {
   "cell_type": "code",
   "execution_count": 44,
   "metadata": {},
   "outputs": [
    {
     "data": {
      "text/html": [
       "<div>\n",
       "<style scoped>\n",
       "    .dataframe tbody tr th:only-of-type {\n",
       "        vertical-align: middle;\n",
       "    }\n",
       "\n",
       "    .dataframe tbody tr th {\n",
       "        vertical-align: top;\n",
       "    }\n",
       "\n",
       "    .dataframe thead th {\n",
       "        text-align: right;\n",
       "    }\n",
       "</style>\n",
       "<table border=\"1\" class=\"dataframe\">\n",
       "  <thead>\n",
       "    <tr style=\"text-align: right;\">\n",
       "      <th></th>\n",
       "      <th>scientific_name</th>\n",
       "      <th>park_name</th>\n",
       "      <th>observations</th>\n",
       "      <th>category</th>\n",
       "      <th>common_names</th>\n",
       "      <th>conservation_status</th>\n",
       "    </tr>\n",
       "  </thead>\n",
       "  <tbody>\n",
       "    <tr>\n",
       "      <th>925</th>\n",
       "      <td>Oncorhynchus mykiss</td>\n",
       "      <td>Bryce National Park</td>\n",
       "      <td>59.0</td>\n",
       "      <td>Fish</td>\n",
       "      <td>Rainbow Trout</td>\n",
       "      <td>Threatened</td>\n",
       "    </tr>\n",
       "    <tr>\n",
       "      <th>11893</th>\n",
       "      <td>Oncorhynchus mykiss</td>\n",
       "      <td>Bryce National Park</td>\n",
       "      <td>105.0</td>\n",
       "      <td>Fish</td>\n",
       "      <td>Rainbow Trout</td>\n",
       "      <td>Not at Risk</td>\n",
       "    </tr>\n",
       "  </tbody>\n",
       "</table>\n",
       "</div>"
      ],
      "text/plain": [
       "           scientific_name            park_name  observations category  \\\n",
       "925    Oncorhynchus mykiss  Bryce National Park          59.0     Fish   \n",
       "11893  Oncorhynchus mykiss  Bryce National Park         105.0     Fish   \n",
       "\n",
       "        common_names conservation_status  \n",
       "925    Rainbow Trout          Threatened  \n",
       "11893  Rainbow Trout         Not at Risk  "
      ]
     },
     "metadata": {},
     "output_type": "display_data"
    },
    {
     "data": {
      "text/html": [
       "<div>\n",
       "<style scoped>\n",
       "    .dataframe tbody tr th:only-of-type {\n",
       "        vertical-align: middle;\n",
       "    }\n",
       "\n",
       "    .dataframe tbody tr th {\n",
       "        vertical-align: top;\n",
       "    }\n",
       "\n",
       "    .dataframe thead th {\n",
       "        text-align: right;\n",
       "    }\n",
       "</style>\n",
       "<table border=\"1\" class=\"dataframe\">\n",
       "  <thead>\n",
       "    <tr style=\"text-align: right;\">\n",
       "      <th></th>\n",
       "      <th>scientific_name</th>\n",
       "      <th>park_name</th>\n",
       "      <th>observations</th>\n",
       "      <th>category</th>\n",
       "      <th>common_names</th>\n",
       "      <th>conservation_status</th>\n",
       "    </tr>\n",
       "  </thead>\n",
       "  <tbody>\n",
       "    <tr>\n",
       "      <th>3354</th>\n",
       "      <td>Oncorhynchus mykiss</td>\n",
       "      <td>Great Smoky Mountains National Park</td>\n",
       "      <td>61.0</td>\n",
       "      <td>Fish</td>\n",
       "      <td>Rainbow Trout</td>\n",
       "      <td>Not at Risk</td>\n",
       "    </tr>\n",
       "    <tr>\n",
       "      <th>15020</th>\n",
       "      <td>Oncorhynchus mykiss</td>\n",
       "      <td>Great Smoky Mountains National Park</td>\n",
       "      <td>39.0</td>\n",
       "      <td>Fish</td>\n",
       "      <td>Rainbow Trout</td>\n",
       "      <td>Threatened</td>\n",
       "    </tr>\n",
       "  </tbody>\n",
       "</table>\n",
       "</div>"
      ],
      "text/plain": [
       "           scientific_name                            park_name  observations  \\\n",
       "3354   Oncorhynchus mykiss  Great Smoky Mountains National Park          61.0   \n",
       "15020  Oncorhynchus mykiss  Great Smoky Mountains National Park          39.0   \n",
       "\n",
       "      category   common_names conservation_status  \n",
       "3354      Fish  Rainbow Trout         Not at Risk  \n",
       "15020     Fish  Rainbow Trout          Threatened  "
      ]
     },
     "metadata": {},
     "output_type": "display_data"
    },
    {
     "data": {
      "text/html": [
       "<div>\n",
       "<style scoped>\n",
       "    .dataframe tbody tr th:only-of-type {\n",
       "        vertical-align: middle;\n",
       "    }\n",
       "\n",
       "    .dataframe tbody tr th {\n",
       "        vertical-align: top;\n",
       "    }\n",
       "\n",
       "    .dataframe thead th {\n",
       "        text-align: right;\n",
       "    }\n",
       "</style>\n",
       "<table border=\"1\" class=\"dataframe\">\n",
       "  <thead>\n",
       "    <tr style=\"text-align: right;\">\n",
       "      <th></th>\n",
       "      <th>scientific_name</th>\n",
       "      <th>park_name</th>\n",
       "      <th>observations</th>\n",
       "      <th>category</th>\n",
       "      <th>common_names</th>\n",
       "      <th>conservation_status</th>\n",
       "    </tr>\n",
       "  </thead>\n",
       "  <tbody>\n",
       "    <tr>\n",
       "      <th>4649</th>\n",
       "      <td>Oncorhynchus mykiss</td>\n",
       "      <td>Yellowstone National Park</td>\n",
       "      <td>119.0</td>\n",
       "      <td>Fish</td>\n",
       "      <td>Rainbow Trout</td>\n",
       "      <td>Threatened</td>\n",
       "    </tr>\n",
       "    <tr>\n",
       "      <th>8682</th>\n",
       "      <td>Oncorhynchus mykiss</td>\n",
       "      <td>Yellowstone National Park</td>\n",
       "      <td>253.0</td>\n",
       "      <td>Fish</td>\n",
       "      <td>Rainbow Trout</td>\n",
       "      <td>Not at Risk</td>\n",
       "    </tr>\n",
       "  </tbody>\n",
       "</table>\n",
       "</div>"
      ],
      "text/plain": [
       "          scientific_name                  park_name  observations category  \\\n",
       "4649  Oncorhynchus mykiss  Yellowstone National Park         119.0     Fish   \n",
       "8682  Oncorhynchus mykiss  Yellowstone National Park         253.0     Fish   \n",
       "\n",
       "       common_names conservation_status  \n",
       "4649  Rainbow Trout          Threatened  \n",
       "8682  Rainbow Trout         Not at Risk  "
      ]
     },
     "metadata": {},
     "output_type": "display_data"
    },
    {
     "data": {
      "text/html": [
       "<div>\n",
       "<style scoped>\n",
       "    .dataframe tbody tr th:only-of-type {\n",
       "        vertical-align: middle;\n",
       "    }\n",
       "\n",
       "    .dataframe tbody tr th {\n",
       "        vertical-align: top;\n",
       "    }\n",
       "\n",
       "    .dataframe thead th {\n",
       "        text-align: right;\n",
       "    }\n",
       "</style>\n",
       "<table border=\"1\" class=\"dataframe\">\n",
       "  <thead>\n",
       "    <tr style=\"text-align: right;\">\n",
       "      <th></th>\n",
       "      <th>scientific_name</th>\n",
       "      <th>park_name</th>\n",
       "      <th>observations</th>\n",
       "      <th>category</th>\n",
       "      <th>common_names</th>\n",
       "      <th>conservation_status</th>\n",
       "    </tr>\n",
       "  </thead>\n",
       "  <tbody>\n",
       "    <tr>\n",
       "      <th>167</th>\n",
       "      <td>Oncorhynchus mykiss</td>\n",
       "      <td>Yosemite National Park</td>\n",
       "      <td>118.0</td>\n",
       "      <td>Fish</td>\n",
       "      <td>Rainbow Trout</td>\n",
       "      <td>Not at Risk</td>\n",
       "    </tr>\n",
       "    <tr>\n",
       "      <th>15239</th>\n",
       "      <td>Oncorhynchus mykiss</td>\n",
       "      <td>Yosemite National Park</td>\n",
       "      <td>59.0</td>\n",
       "      <td>Fish</td>\n",
       "      <td>Rainbow Trout</td>\n",
       "      <td>Threatened</td>\n",
       "    </tr>\n",
       "  </tbody>\n",
       "</table>\n",
       "</div>"
      ],
      "text/plain": [
       "           scientific_name               park_name  observations category  \\\n",
       "167    Oncorhynchus mykiss  Yosemite National Park         118.0     Fish   \n",
       "15239  Oncorhynchus mykiss  Yosemite National Park          59.0     Fish   \n",
       "\n",
       "        common_names conservation_status  \n",
       "167    Rainbow Trout         Not at Risk  \n",
       "15239  Rainbow Trout          Threatened  "
      ]
     },
     "metadata": {},
     "output_type": "display_data"
    },
    {
     "data": {
      "text/html": [
       "<div>\n",
       "<style scoped>\n",
       "    .dataframe tbody tr th:only-of-type {\n",
       "        vertical-align: middle;\n",
       "    }\n",
       "\n",
       "    .dataframe tbody tr th {\n",
       "        vertical-align: top;\n",
       "    }\n",
       "\n",
       "    .dataframe thead th {\n",
       "        text-align: right;\n",
       "    }\n",
       "</style>\n",
       "<table border=\"1\" class=\"dataframe\">\n",
       "  <thead>\n",
       "    <tr style=\"text-align: right;\">\n",
       "      <th></th>\n",
       "    </tr>\n",
       "  </thead>\n",
       "  <tbody>\n",
       "  </tbody>\n",
       "</table>\n",
       "</div>"
      ],
      "text/plain": [
       "Empty DataFrame\n",
       "Columns: []\n",
       "Index: []"
      ]
     },
     "execution_count": 44,
     "metadata": {},
     "output_type": "execute_result"
    }
   ],
   "source": [
    "master_data[master_data.scientific_name == \"Oncorhynchus mykiss\"].groupby('park_name').apply(display)"
   ]
  },
  {
   "cell_type": "code",
   "execution_count": 45,
   "metadata": {},
   "outputs": [
    {
     "data": {
      "text/html": [
       "<div>\n",
       "<style scoped>\n",
       "    .dataframe tbody tr th:only-of-type {\n",
       "        vertical-align: middle;\n",
       "    }\n",
       "\n",
       "    .dataframe tbody tr th {\n",
       "        vertical-align: top;\n",
       "    }\n",
       "\n",
       "    .dataframe thead th {\n",
       "        text-align: right;\n",
       "    }\n",
       "</style>\n",
       "<table border=\"1\" class=\"dataframe\">\n",
       "  <thead>\n",
       "    <tr style=\"text-align: right;\">\n",
       "      <th></th>\n",
       "      <th>scientific_name</th>\n",
       "      <th>park_name</th>\n",
       "      <th>observations</th>\n",
       "      <th>category</th>\n",
       "      <th>common_names</th>\n",
       "      <th>conservation_status</th>\n",
       "    </tr>\n",
       "  </thead>\n",
       "  <tbody>\n",
       "    <tr>\n",
       "      <th>count</th>\n",
       "      <td>23296</td>\n",
       "      <td>23296</td>\n",
       "      <td>23296.000000</td>\n",
       "      <td>23296</td>\n",
       "      <td>23296</td>\n",
       "      <td>23296</td>\n",
       "    </tr>\n",
       "    <tr>\n",
       "      <th>unique</th>\n",
       "      <td>5541</td>\n",
       "      <td>4</td>\n",
       "      <td>NaN</td>\n",
       "      <td>7</td>\n",
       "      <td>5229</td>\n",
       "      <td>5</td>\n",
       "    </tr>\n",
       "    <tr>\n",
       "      <th>top</th>\n",
       "      <td>Castor canadensis</td>\n",
       "      <td>Bryce National Park</td>\n",
       "      <td>NaN</td>\n",
       "      <td>Vascular Plant</td>\n",
       "      <td>Dicranum Moss</td>\n",
       "      <td>Not at Risk</td>\n",
       "    </tr>\n",
       "    <tr>\n",
       "      <th>freq</th>\n",
       "      <td>12</td>\n",
       "      <td>5824</td>\n",
       "      <td>NaN</td>\n",
       "      <td>17880</td>\n",
       "      <td>28</td>\n",
       "      <td>22532</td>\n",
       "    </tr>\n",
       "    <tr>\n",
       "      <th>mean</th>\n",
       "      <td>NaN</td>\n",
       "      <td>NaN</td>\n",
       "      <td>142.287904</td>\n",
       "      <td>NaN</td>\n",
       "      <td>NaN</td>\n",
       "      <td>NaN</td>\n",
       "    </tr>\n",
       "    <tr>\n",
       "      <th>std</th>\n",
       "      <td>NaN</td>\n",
       "      <td>NaN</td>\n",
       "      <td>69.890532</td>\n",
       "      <td>NaN</td>\n",
       "      <td>NaN</td>\n",
       "      <td>NaN</td>\n",
       "    </tr>\n",
       "    <tr>\n",
       "      <th>min</th>\n",
       "      <td>NaN</td>\n",
       "      <td>NaN</td>\n",
       "      <td>9.000000</td>\n",
       "      <td>NaN</td>\n",
       "      <td>NaN</td>\n",
       "      <td>NaN</td>\n",
       "    </tr>\n",
       "    <tr>\n",
       "      <th>25%</th>\n",
       "      <td>NaN</td>\n",
       "      <td>NaN</td>\n",
       "      <td>86.000000</td>\n",
       "      <td>NaN</td>\n",
       "      <td>NaN</td>\n",
       "      <td>NaN</td>\n",
       "    </tr>\n",
       "    <tr>\n",
       "      <th>50%</th>\n",
       "      <td>NaN</td>\n",
       "      <td>NaN</td>\n",
       "      <td>124.000000</td>\n",
       "      <td>NaN</td>\n",
       "      <td>NaN</td>\n",
       "      <td>NaN</td>\n",
       "    </tr>\n",
       "    <tr>\n",
       "      <th>75%</th>\n",
       "      <td>NaN</td>\n",
       "      <td>NaN</td>\n",
       "      <td>195.000000</td>\n",
       "      <td>NaN</td>\n",
       "      <td>NaN</td>\n",
       "      <td>NaN</td>\n",
       "    </tr>\n",
       "    <tr>\n",
       "      <th>max</th>\n",
       "      <td>NaN</td>\n",
       "      <td>NaN</td>\n",
       "      <td>321.000000</td>\n",
       "      <td>NaN</td>\n",
       "      <td>NaN</td>\n",
       "      <td>NaN</td>\n",
       "    </tr>\n",
       "  </tbody>\n",
       "</table>\n",
       "</div>"
      ],
      "text/plain": [
       "          scientific_name            park_name  observations        category  \\\n",
       "count               23296                23296  23296.000000           23296   \n",
       "unique               5541                    4           NaN               7   \n",
       "top     Castor canadensis  Bryce National Park           NaN  Vascular Plant   \n",
       "freq                   12                 5824           NaN           17880   \n",
       "mean                  NaN                  NaN    142.287904             NaN   \n",
       "std                   NaN                  NaN     69.890532             NaN   \n",
       "min                   NaN                  NaN      9.000000             NaN   \n",
       "25%                   NaN                  NaN     86.000000             NaN   \n",
       "50%                   NaN                  NaN    124.000000             NaN   \n",
       "75%                   NaN                  NaN    195.000000             NaN   \n",
       "max                   NaN                  NaN    321.000000             NaN   \n",
       "\n",
       "         common_names conservation_status  \n",
       "count           23296               23296  \n",
       "unique           5229                   5  \n",
       "top     Dicranum Moss         Not at Risk  \n",
       "freq               28               22532  \n",
       "mean              NaN                 NaN  \n",
       "std               NaN                 NaN  \n",
       "min               NaN                 NaN  \n",
       "25%               NaN                 NaN  \n",
       "50%               NaN                 NaN  \n",
       "75%               NaN                 NaN  \n",
       "max               NaN                 NaN  "
      ]
     },
     "execution_count": 45,
     "metadata": {},
     "output_type": "execute_result"
    }
   ],
   "source": [
    "master_data.describe(include = 'all')"
   ]
  },
  {
   "cell_type": "markdown",
   "metadata": {},
   "source": [
    "The dataset is now clean and ready for analysis."
   ]
  },
  {
   "cell_type": "markdown",
   "metadata": {},
   "source": [
    "## 2. Exploratory Data Analysis (EDA)\n",
    "\n",
    "Now that I have joined both datasets, I would like to know how the observations are distributed for each of the species categories. As I discovered previously, I have to be care to include the context of which park I am looking at in my analysis. To that end, I will employ boxplots."
   ]
  },
  {
   "cell_type": "code",
   "execution_count": 46,
   "metadata": {
    "scrolled": false
   },
   "outputs": [
    {
     "data": {
      "image/png": "[encoded data removed]",
      "text/plain": [
       "<Figure size 1440x1152 with 4 Axes>"
      ]
     },
     "metadata": {
      "needs_background": "light"
     },
     "output_type": "display_data"
    }
   ],
   "source": [
    "plt.figure(figsize = (20,16))\n",
    "\n",
    "for i in range(len(master_data.park_name.unique())):\n",
    "    \n",
    "    box_df = master_data[master_data.park_name == master_data.park_name.unique()[i]]\n",
    "    \n",
    "    plt.subplot(3, 2, i + 1)\n",
    "    box = sns.boxplot(x = 'observations',\n",
    "                y = 'category',\n",
    "                data = box_df)\n",
    "    \n",
    "    plt.xticks(fontsize = 15)\n",
    "    plt.xlabel(\"Observations\", fontsize = 15)\n",
    "    box.set(ylabel = None)\n",
    "    plt.yticks(fontsize = 15)\n",
    "    plt.title(master_data.park_name.unique()[i], fontsize = 20)\n",
    "\n",
    "\n",
    "plt.suptitle(\"Distribution of Species Observations Amoung Various Parks and Categories\", fontsize = 25, y = 1)\n",
    "plt.tight_layout()\n",
    "plt.savefig('cat_park_obs_dist.pdf')\n",
    "plt.show()"
   ]
  },
  {
   "cell_type": "markdown",
   "metadata": {},
   "source": [
    "The number of observations in Yellowstone is consistently larger than all other parks for each species category. It is also interesting to see that the distribution of observations does not change very much when looking at the species category.\n",
    "\n",
    "What are the observation distributions for the different conservation statuses?"
   ]
  },
  {
   "cell_type": "code",
   "execution_count": 47,
   "metadata": {},
   "outputs": [
    {
     "data": {
      "image/png": "[encoded data removed]",
      "text/plain": [
       "<Figure size 1440x1152 with 4 Axes>"
      ]
     },
     "metadata": {
      "needs_background": "light"
     },
     "output_type": "display_data"
    }
   ],
   "source": [
    "plt.figure(figsize = (20,16))\n",
    "\n",
    "for i in range(len(master_data.park_name.unique())):\n",
    "    \n",
    "    box_df = master_data[master_data.park_name == master_data.park_name.unique()[i]]\n",
    "    \n",
    "    plt.subplot(2, 2, i + 1)\n",
    "    box = sns.boxplot(x = 'observations',\n",
    "                y = 'conservation_status',\n",
    "                data = box_df)\n",
    "    \n",
    "    plt.xticks(fontsize = 15)\n",
    "    plt.xlabel(\"Observations\", fontsize = 15)\n",
    "    box.set(ylabel = None)\n",
    "    plt.yticks(fontsize = 15)\n",
    "    plt.title(master_data.park_name.unique()[i], fontsize = 20)\n",
    "\n",
    "\n",
    "plt.suptitle(\"Distribution of Species Observations Amoung Parks and Conservation Statuses\", fontsize = 25, y = 1)\n",
    "plt.tight_layout()\n",
    "plt.savefig('stat_park_obs.pdf')\n",
    "plt.show()"
   ]
  }
 ],
 "metadata": {
  "kernelspec": {
   "display_name": "Python 3",
   "language": "python",
   "name": "python3"
  },
  "language_info": {
   "codemirror_mode": {
    "name": "ipython",
    "version": 3
   },
   "file_extension": ".py",
   "mimetype": "text/x-python",
   "name": "python",
   "nbconvert_exporter": "python",
   "pygments_lexer": "ipython3",
   "version": "3.7.6"
  }
 },
 "nbformat": 4,
 "nbformat_minor": 4
}
